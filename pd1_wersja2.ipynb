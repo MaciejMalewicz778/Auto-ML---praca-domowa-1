{
 "cells": [
  {
   "cell_type": "code",
   "execution_count": 31,
   "metadata": {},
   "outputs": [],
   "source": [
    "import pandas as pd\n",
    "import numpy as np\n",
    "import matplotlib.pyplot as plt\n",
    "\n",
    "from sklearn.datasets import fetch_openml\n",
    "from sklearn.model_selection import train_test_split\n",
    "from sklearn.pipeline import Pipeline\n",
    "from sklearn.compose import ColumnTransformer\n",
    "from sklearn.preprocessing import OneHotEncoder\n",
    "from sklearn.impute import SimpleImputer\n",
    "from sklearn.model_selection import StratifiedKFold, RandomizedSearchCV, cross_val_score\n",
    "# Models\n",
    "from sklearn.linear_model import LogisticRegression\n",
    "from sklearn.tree import DecisionTreeClassifier\n",
    "from sklearn.ensemble import RandomForestClassifier\n",
    "# skopt\n",
    "from skopt import BayesSearchCV\n",
    "\n",
    "#helpers\n",
    "import helpers"
   ]
  },
  {
   "cell_type": "code",
   "execution_count": 2,
   "metadata": {},
   "outputs": [],
   "source": [
    "results = pd.DataFrame({'hiperparametry': [], 'wynik_zbior_1': [], 'wynik_zbior_2': [], 'wynik_zbior_3': [], 'wynik_zbior_4': [], 'model': []})"
   ]
  },
  {
   "cell_type": "code",
   "execution_count": 3,
   "metadata": {},
   "outputs": [],
   "source": [
    "import warnings\n",
    "warnings.filterwarnings('ignore')"
   ]
  },
  {
   "cell_type": "code",
   "execution_count": 4,
   "metadata": {},
   "outputs": [],
   "source": [
    "RANDOM_STATE = 123"
   ]
  },
  {
   "cell_type": "code",
   "execution_count": 5,
   "metadata": {},
   "outputs": [],
   "source": [
    "# Load datasets\n",
    "import warnings\n",
    "warnings.filterwarnings('ignore')\n",
    "\n",
    "Xs = []\n",
    "ys = []\n",
    "\n",
    "df_1 = fetch_openml(data_id=31)\n",
    "df_2 = fetch_openml(data_id=1489)\n",
    "df_3 = fetch_openml(data_id=1558)\n",
    "df_4 = fetch_openml(data_id=183)\n",
    "\n",
    "X_1 = df_1.data\n",
    "y_1 = df_1.target\n",
    "Xs.append(X_1)\n",
    "ys.append(y_1)\n",
    "\n",
    "X_2 = df_2.data\n",
    "y_2 = df_2.target\n",
    "Xs.append(X_2)\n",
    "ys.append(y_2)\n",
    "\n",
    "X_3 = df_3.data\n",
    "y_3 = df_3.target\n",
    "Xs.append(X_3)\n",
    "ys.append(y_3)\n",
    "\n",
    "X_4 = df_3.data\n",
    "y_4 = df_3.target\n",
    "Xs.append(X_4)\n",
    "ys.append(y_4)\n",
    "\n",
    "warnings.filterwarnings('default')"
   ]
  },
  {
   "cell_type": "code",
   "execution_count": 6,
   "metadata": {},
   "outputs": [],
   "source": [
    "# split datasets into train and test\n",
    "X_train_arr = []\n",
    "X_test_arr = []\n",
    "y_train_arr = []\n",
    "y_test_arr = []\n",
    "cols_num = []\n",
    "cols_cat = []\n",
    "\n",
    "for i in range(len(Xs)):\n",
    "    X_train, X_test, y_train, y_test = train_test_split(Xs[i], ys[i], test_size=0.3, random_state=RANDOM_STATE)\n",
    "\n",
    "    X_train_arr.append(X_train)\n",
    "    X_test_arr.append(X_test)\n",
    "    y_train_arr.append(y_train)\n",
    "    y_test_arr.append(y_test)\n",
    "\n",
    "    numeric_features = X_train_arr[i].select_dtypes(exclude=['category']).columns\n",
    "    categorical_features = X_train_arr[i].select_dtypes(include=['category']).columns\n",
    "\n",
    "    cols_num.append(numeric_features)\n",
    "    cols_cat.append(categorical_features)"
   ]
  },
  {
   "cell_type": "code",
   "execution_count": 7,
   "metadata": {},
   "outputs": [],
   "source": [
    "# helper function to wrap model and do imputing and encoding\n",
    "\n",
    "def getPipeline(model, num_cols, cat_cols):\n",
    "    numeric_transformer = Pipeline(\n",
    "        steps=[(\"imputer\", SimpleImputer(strategy=\"median\"))]\n",
    "    )\n",
    "\n",
    "    categorical_transformer = Pipeline(\n",
    "        steps=[\n",
    "            (\"imputer\", SimpleImputer(strategy='most_frequent')),\n",
    "            (\"encoder\", OneHotEncoder(handle_unknown=\"ignore\"))\n",
    "        ]\n",
    "    )\n",
    "    preprocessor = ColumnTransformer(\n",
    "        transformers=[\n",
    "            (\"num\", numeric_transformer, num_cols),\n",
    "            (\"cat\", categorical_transformer, cat_cols),\n",
    "        ]\n",
    "    )\n",
    "\n",
    "    pipe = Pipeline(\n",
    "    steps=[(\"preprocessor\", preprocessor), (\"classifier\", model)]\n",
    "    )\n",
    "\n",
    "    return pipe"
   ]
  },
  {
   "cell_type": "markdown",
   "metadata": {},
   "source": [
    "### Parameters grid"
   ]
  },
  {
   "cell_type": "code",
   "execution_count": 32,
   "metadata": {},
   "outputs": [],
   "source": [
    "grid_log_reg = {\n",
    "    'classifier__C': np.logspace(-4, 4, 50),\n",
    "    'classifier__l1_ratio': np.linspace(0, 1, 50)\n",
    "}\n",
    "\n",
    "grid_tree = {\n",
    "    'classifier__max_depth': np.concatenate(([None], range(5, 100, 5))),\n",
    "    'classifier__min_samples_split': list(range(2, 10)),\n",
    "    'classifier__min_samples_leaf': list(range(2, 50, 2)),\n",
    "    'classifier__max_leaf_nodes': np.concatenate(([None], range(30, 330, 30))),\n",
    "    'classifier__ccp_alpha': np.logspace(-3, 3, 50)\n",
    "}\n",
    "\n",
    "grid_forest = {\n",
    "    'classifier__max_depth': np.concatenate(([None], range(1, 11, 1))),\n",
    "    'classifier__min_samples_split': list(range(2, 10)),\n",
    "    'classifier__min_samples_leaf': list(range(2, 10, 1)),\n",
    "    'classifier__max_leaf_nodes': np.concatenate(([None], range(2, 50, 1))),\n",
    "    'classifier__ccp_alpha': np.logspace(-3, 2, 50),\n",
    "    'classifier__bootstrap': [True, False],\n",
    "    'classifier__warm_start': [True, False]\n",
    "}"
   ]
  },
  {
   "cell_type": "code",
   "execution_count": 9,
   "metadata": {},
   "outputs": [],
   "source": [
    "cv = StratifiedKFold(n_splits=5, shuffle=True, random_state=RANDOM_STATE)"
   ]
  },
  {
   "cell_type": "markdown",
   "metadata": {},
   "source": [
    "### Important helpers. They Return best CV scores and params for each set"
   ]
  },
  {
   "cell_type": "code",
   "execution_count": 10,
   "metadata": {},
   "outputs": [],
   "source": [
    "def getRandomCVResults(model, grid, n_iter=10, n_jobs=1, verbose=0):\n",
    "    search_res = []\n",
    "    for i in range(len(X_train_arr)):\n",
    "        clf = getPipeline(model, cols_num[i], cols_cat[i])\n",
    "\n",
    "        res = RandomizedSearchCV(clf, param_distributions=grid, random_state=RANDOM_STATE, cv=cv, scoring='accuracy', n_iter=n_iter, n_jobs=n_jobs, verbose=verbose)\n",
    "        res.fit(X_train_arr[i], y_train_arr[i])\n",
    "\n",
    "        search_res.append(res)\n",
    "        print(f\"Fit for set number {i} is done\")\n",
    "        \n",
    "    return search_res\n",
    "\n",
    "def getBayesCVResults(model, grid, n_iter=10, n_jobs=1, verbose=0):\n",
    "    search_res = []\n",
    "    for i in range(len(X_train_arr)):\n",
    "        clf = getPipeline(model, cols_num[i], cols_cat[i])\n",
    "\n",
    "        res = BayesSearchCV(clf, search_spaces=grid, cv=cv, scoring='accuracy', n_iter=n_iter, n_jobs=n_jobs, verbose=verbose)\n",
    "        res.fit(X_train_arr[i], y_train_arr[i])\n",
    "        search_res.append(res)\n",
    "        print(f\"Fit for set number {i} is done\")\n",
    "    \n",
    "    return search_res\n"
   ]
  },
  {
   "cell_type": "markdown",
   "metadata": {},
   "source": [
    "# Logistic Regression"
   ]
  },
  {
   "cell_type": "markdown",
   "metadata": {},
   "source": [
    "### Look for best hyperparams (Random search method) for each set"
   ]
  },
  {
   "cell_type": "code",
   "execution_count": 11,
   "metadata": {},
   "outputs": [],
   "source": [
    "warnings.filterwarnings('ignore')\n",
    "\n",
    "lr = LogisticRegression(penalty='elasticnet', solver='saga', random_state=RANDOM_STATE, max_iter=1000)\n",
    "search_rand_lr = getRandomCVResults(lr, grid_log_reg, 5, -1)\n",
    "\n",
    "warnings.filterwarnings('default')"
   ]
  },
  {
   "cell_type": "code",
   "execution_count": 40,
   "metadata": {},
   "outputs": [],
   "source": [
    "res_lr = {\n",
    "    'hiperparametry': search_rand_lr[0].cv_results_['params'], \n",
    "    'wynik_zbior_1': search_rand_lr[0].cv_results_['mean_test_score'], \n",
    "    'wynik_zbior_2': search_rand_lr[1].cv_results_['mean_test_score'], \n",
    "    'wynik_zbior_3': search_rand_lr[2].cv_results_['mean_test_score'], \n",
    "    'wynik_zbior_4': search_rand_lr[3].cv_results_['mean_test_score']\n",
    "}\n",
    "\n",
    "results_lr = pd.DataFrame(res_lr)\n",
    "results_lr['model'] = 'LogisticRegression'"
   ]
  },
  {
   "cell_type": "markdown",
   "metadata": {},
   "source": [
    "# Decision Tree"
   ]
  },
  {
   "cell_type": "code",
   "execution_count": 35,
   "metadata": {},
   "outputs": [],
   "source": [
    "#warnings.filterwarnings('ignore')\n",
    "\n",
    "tree = DecisionTreeClassifier(random_state=RANDOM_STATE)\n",
    "search_rand_tree = getRandomCVResults(tree, grid_tree, 5, -1)\n",
    "\n",
    "#warnings.filterwarnings('default')"
   ]
  },
  {
   "cell_type": "code",
   "execution_count": 43,
   "metadata": {},
   "outputs": [],
   "source": [
    "res_tree = {\n",
    "    'hiperparametry': search_rand_tree[0].cv_results_['params'], \n",
    "    'wynik_zbior_1': search_rand_tree[0].cv_results_['mean_test_score'], \n",
    "    'wynik_zbior_2': search_rand_tree[1].cv_results_['mean_test_score'], \n",
    "    'wynik_zbior_3': search_rand_tree[2].cv_results_['mean_test_score'], \n",
    "    'wynik_zbior_4': search_rand_tree[3].cv_results_['mean_test_score']\n",
    "}\n",
    "\n",
    "results_tree = pd.DataFrame(res_tree)\n",
    "results_tree['model'] = 'DecisionTreeClassifier'"
   ]
  },
  {
   "cell_type": "markdown",
   "metadata": {},
   "source": [
    "# Random Forest"
   ]
  },
  {
   "cell_type": "code",
   "execution_count": 34,
   "metadata": {},
   "outputs": [],
   "source": [
    "#warnings.filterwarnings('ignore')\n",
    "\n",
    "forest = RandomForestClassifier(random_state=RANDOM_STATE)\n",
    "search_rand_forest = getRandomCVResults(forest, grid_forest, 5, -1)\n",
    "\n",
    "#warnings.filterwarnings('default')"
   ]
  },
  {
   "cell_type": "code",
   "execution_count": 44,
   "metadata": {},
   "outputs": [],
   "source": [
    "res_forest = {\n",
    "    'hiperparametry': search_rand_forest[0].cv_results_['params'], \n",
    "    'wynik_zbior_1': search_rand_forest[0].cv_results_['mean_test_score'], \n",
    "    'wynik_zbior_2': search_rand_forest[1].cv_results_['mean_test_score'], \n",
    "    'wynik_zbior_3': search_rand_forest[2].cv_results_['mean_test_score'], \n",
    "    'wynik_zbior_4': search_rand_forest[3].cv_results_['mean_test_score']\n",
    "}\n",
    "\n",
    "results_forest = pd.DataFrame(res_forest)\n",
    "results_forest['model'] = 'RandomForestClassifier'"
   ]
  },
  {
   "cell_type": "code",
   "execution_count": 38,
   "metadata": {},
   "outputs": [
    {
     "data": {
      "text/html": [
       "<div>\n",
       "<style scoped>\n",
       "    .dataframe tbody tr th:only-of-type {\n",
       "        vertical-align: middle;\n",
       "    }\n",
       "\n",
       "    .dataframe tbody tr th {\n",
       "        vertical-align: top;\n",
       "    }\n",
       "\n",
       "    .dataframe thead th {\n",
       "        text-align: right;\n",
       "    }\n",
       "</style>\n",
       "<table border=\"1\" class=\"dataframe\">\n",
       "  <thead>\n",
       "    <tr style=\"text-align: right;\">\n",
       "      <th></th>\n",
       "      <th>hiperparametry</th>\n",
       "      <th>wynik_zbior_1</th>\n",
       "      <th>wynik_zbior_2</th>\n",
       "      <th>wynik_zbior_3</th>\n",
       "      <th>wynik_zbior_4</th>\n",
       "      <th>model</th>\n",
       "    </tr>\n",
       "  </thead>\n",
       "  <tbody>\n",
       "    <tr>\n",
       "      <th>0</th>\n",
       "      <td>{'classifier__warm_start': True, 'classifier__...</td>\n",
       "      <td>0.714286</td>\n",
       "      <td>0.704125</td>\n",
       "      <td>0.881163</td>\n",
       "      <td>0.881163</td>\n",
       "      <td>RandomForestClassifier</td>\n",
       "    </tr>\n",
       "    <tr>\n",
       "      <th>1</th>\n",
       "      <td>{'classifier__warm_start': False, 'classifier_...</td>\n",
       "      <td>0.721429</td>\n",
       "      <td>0.835803</td>\n",
       "      <td>0.885905</td>\n",
       "      <td>0.885905</td>\n",
       "      <td>RandomForestClassifier</td>\n",
       "    </tr>\n",
       "    <tr>\n",
       "      <th>2</th>\n",
       "      <td>{'classifier__warm_start': True, 'classifier__...</td>\n",
       "      <td>0.714286</td>\n",
       "      <td>0.782919</td>\n",
       "      <td>0.881163</td>\n",
       "      <td>0.881163</td>\n",
       "      <td>RandomForestClassifier</td>\n",
       "    </tr>\n",
       "    <tr>\n",
       "      <th>3</th>\n",
       "      <td>{'classifier__warm_start': True, 'classifier__...</td>\n",
       "      <td>0.714286</td>\n",
       "      <td>0.704125</td>\n",
       "      <td>0.881163</td>\n",
       "      <td>0.881163</td>\n",
       "      <td>RandomForestClassifier</td>\n",
       "    </tr>\n",
       "    <tr>\n",
       "      <th>4</th>\n",
       "      <td>{'classifier__warm_start': True, 'classifier__...</td>\n",
       "      <td>0.714286</td>\n",
       "      <td>0.704125</td>\n",
       "      <td>0.881163</td>\n",
       "      <td>0.881163</td>\n",
       "      <td>RandomForestClassifier</td>\n",
       "    </tr>\n",
       "  </tbody>\n",
       "</table>\n",
       "</div>"
      ],
      "text/plain": [
       "                                      hiperparametry  wynik_zbior_1  \\\n",
       "0  {'classifier__warm_start': True, 'classifier__...       0.714286   \n",
       "1  {'classifier__warm_start': False, 'classifier_...       0.721429   \n",
       "2  {'classifier__warm_start': True, 'classifier__...       0.714286   \n",
       "3  {'classifier__warm_start': True, 'classifier__...       0.714286   \n",
       "4  {'classifier__warm_start': True, 'classifier__...       0.714286   \n",
       "\n",
       "   wynik_zbior_2  wynik_zbior_3  wynik_zbior_4                   model  \n",
       "0       0.704125       0.881163       0.881163  RandomForestClassifier  \n",
       "1       0.835803       0.885905       0.885905  RandomForestClassifier  \n",
       "2       0.782919       0.881163       0.881163  RandomForestClassifier  \n",
       "3       0.704125       0.881163       0.881163  RandomForestClassifier  \n",
       "4       0.704125       0.881163       0.881163  RandomForestClassifier  "
      ]
     },
     "execution_count": 38,
     "metadata": {},
     "output_type": "execute_result"
    }
   ],
   "source": [
    "results_tree"
   ]
  },
  {
   "cell_type": "markdown",
   "metadata": {},
   "source": [
    "# Merging results"
   ]
  },
  {
   "cell_type": "code",
   "execution_count": 45,
   "metadata": {},
   "outputs": [],
   "source": [
    "frames = [results_lr, results_tree, results_forest]\n",
    "\n",
    "results = pd.concat(frames)"
   ]
  },
  {
   "cell_type": "code",
   "execution_count": 49,
   "metadata": {},
   "outputs": [],
   "source": [
    "results['mean_result'] = (results['wynik_zbior_1'] + results['wynik_zbior_2'] + results['wynik_zbior_3'] + results['wynik_zbior_4']) / 4"
   ]
  },
  {
   "cell_type": "code",
   "execution_count": 50,
   "metadata": {},
   "outputs": [
    {
     "data": {
      "text/html": [
       "<div>\n",
       "<style scoped>\n",
       "    .dataframe tbody tr th:only-of-type {\n",
       "        vertical-align: middle;\n",
       "    }\n",
       "\n",
       "    .dataframe tbody tr th {\n",
       "        vertical-align: top;\n",
       "    }\n",
       "\n",
       "    .dataframe thead th {\n",
       "        text-align: right;\n",
       "    }\n",
       "</style>\n",
       "<table border=\"1\" class=\"dataframe\">\n",
       "  <thead>\n",
       "    <tr style=\"text-align: right;\">\n",
       "      <th></th>\n",
       "      <th>hiperparametry</th>\n",
       "      <th>wynik_zbior_1</th>\n",
       "      <th>wynik_zbior_2</th>\n",
       "      <th>wynik_zbior_3</th>\n",
       "      <th>wynik_zbior_4</th>\n",
       "      <th>model</th>\n",
       "      <th>mean_result</th>\n",
       "    </tr>\n",
       "  </thead>\n",
       "  <tbody>\n",
       "    <tr>\n",
       "      <th>0</th>\n",
       "      <td>{'classifier__l1_ratio': 0.9387755102040816, '...</td>\n",
       "      <td>0.714286</td>\n",
       "      <td>0.752246</td>\n",
       "      <td>0.880847</td>\n",
       "      <td>0.880847</td>\n",
       "      <td>LogisticRegression</td>\n",
       "      <td>0.807057</td>\n",
       "    </tr>\n",
       "    <tr>\n",
       "      <th>1</th>\n",
       "      <td>{'classifier__l1_ratio': 0.44897959183673464, ...</td>\n",
       "      <td>0.714286</td>\n",
       "      <td>0.752511</td>\n",
       "      <td>0.880847</td>\n",
       "      <td>0.880847</td>\n",
       "      <td>LogisticRegression</td>\n",
       "      <td>0.807123</td>\n",
       "    </tr>\n",
       "    <tr>\n",
       "      <th>2</th>\n",
       "      <td>{'classifier__l1_ratio': 0.32653061224489793, ...</td>\n",
       "      <td>0.714286</td>\n",
       "      <td>0.752246</td>\n",
       "      <td>0.880847</td>\n",
       "      <td>0.880847</td>\n",
       "      <td>LogisticRegression</td>\n",
       "      <td>0.807057</td>\n",
       "    </tr>\n",
       "    <tr>\n",
       "      <th>3</th>\n",
       "      <td>{'classifier__l1_ratio': 0.08163265306122448, ...</td>\n",
       "      <td>0.714286</td>\n",
       "      <td>0.752246</td>\n",
       "      <td>0.880847</td>\n",
       "      <td>0.880847</td>\n",
       "      <td>LogisticRegression</td>\n",
       "      <td>0.807057</td>\n",
       "    </tr>\n",
       "    <tr>\n",
       "      <th>4</th>\n",
       "      <td>{'classifier__l1_ratio': 0.9591836734693877, '...</td>\n",
       "      <td>0.714286</td>\n",
       "      <td>0.752246</td>\n",
       "      <td>0.880847</td>\n",
       "      <td>0.880847</td>\n",
       "      <td>LogisticRegression</td>\n",
       "      <td>0.807057</td>\n",
       "    </tr>\n",
       "    <tr>\n",
       "      <th>0</th>\n",
       "      <td>{'classifier__min_samples_split': 8, 'classifi...</td>\n",
       "      <td>0.714286</td>\n",
       "      <td>0.704125</td>\n",
       "      <td>0.881163</td>\n",
       "      <td>0.881163</td>\n",
       "      <td>DecisionTreeClassifier</td>\n",
       "      <td>0.795184</td>\n",
       "    </tr>\n",
       "    <tr>\n",
       "      <th>1</th>\n",
       "      <td>{'classifier__min_samples_split': 7, 'classifi...</td>\n",
       "      <td>0.707143</td>\n",
       "      <td>0.792440</td>\n",
       "      <td>0.887795</td>\n",
       "      <td>0.887795</td>\n",
       "      <td>DecisionTreeClassifier</td>\n",
       "      <td>0.818793</td>\n",
       "    </tr>\n",
       "    <tr>\n",
       "      <th>2</th>\n",
       "      <td>{'classifier__min_samples_split': 8, 'classifi...</td>\n",
       "      <td>0.694286</td>\n",
       "      <td>0.809360</td>\n",
       "      <td>0.893485</td>\n",
       "      <td>0.893485</td>\n",
       "      <td>DecisionTreeClassifier</td>\n",
       "      <td>0.822654</td>\n",
       "    </tr>\n",
       "    <tr>\n",
       "      <th>3</th>\n",
       "      <td>{'classifier__min_samples_split': 6, 'classifi...</td>\n",
       "      <td>0.714286</td>\n",
       "      <td>0.704125</td>\n",
       "      <td>0.881163</td>\n",
       "      <td>0.881163</td>\n",
       "      <td>DecisionTreeClassifier</td>\n",
       "      <td>0.795184</td>\n",
       "    </tr>\n",
       "    <tr>\n",
       "      <th>4</th>\n",
       "      <td>{'classifier__min_samples_split': 4, 'classifi...</td>\n",
       "      <td>0.714286</td>\n",
       "      <td>0.704125</td>\n",
       "      <td>0.881163</td>\n",
       "      <td>0.881163</td>\n",
       "      <td>DecisionTreeClassifier</td>\n",
       "      <td>0.795184</td>\n",
       "    </tr>\n",
       "    <tr>\n",
       "      <th>0</th>\n",
       "      <td>{'classifier__warm_start': True, 'classifier__...</td>\n",
       "      <td>0.714286</td>\n",
       "      <td>0.704125</td>\n",
       "      <td>0.881163</td>\n",
       "      <td>0.881163</td>\n",
       "      <td>RandomForestClassifier</td>\n",
       "      <td>0.795184</td>\n",
       "    </tr>\n",
       "    <tr>\n",
       "      <th>1</th>\n",
       "      <td>{'classifier__warm_start': False, 'classifier_...</td>\n",
       "      <td>0.721429</td>\n",
       "      <td>0.835803</td>\n",
       "      <td>0.885905</td>\n",
       "      <td>0.885905</td>\n",
       "      <td>RandomForestClassifier</td>\n",
       "      <td>0.832260</td>\n",
       "    </tr>\n",
       "    <tr>\n",
       "      <th>2</th>\n",
       "      <td>{'classifier__warm_start': True, 'classifier__...</td>\n",
       "      <td>0.714286</td>\n",
       "      <td>0.782919</td>\n",
       "      <td>0.881163</td>\n",
       "      <td>0.881163</td>\n",
       "      <td>RandomForestClassifier</td>\n",
       "      <td>0.814883</td>\n",
       "    </tr>\n",
       "    <tr>\n",
       "      <th>3</th>\n",
       "      <td>{'classifier__warm_start': True, 'classifier__...</td>\n",
       "      <td>0.714286</td>\n",
       "      <td>0.704125</td>\n",
       "      <td>0.881163</td>\n",
       "      <td>0.881163</td>\n",
       "      <td>RandomForestClassifier</td>\n",
       "      <td>0.795184</td>\n",
       "    </tr>\n",
       "    <tr>\n",
       "      <th>4</th>\n",
       "      <td>{'classifier__warm_start': True, 'classifier__...</td>\n",
       "      <td>0.714286</td>\n",
       "      <td>0.704125</td>\n",
       "      <td>0.881163</td>\n",
       "      <td>0.881163</td>\n",
       "      <td>RandomForestClassifier</td>\n",
       "      <td>0.795184</td>\n",
       "    </tr>\n",
       "  </tbody>\n",
       "</table>\n",
       "</div>"
      ],
      "text/plain": [
       "                                      hiperparametry  wynik_zbior_1  \\\n",
       "0  {'classifier__l1_ratio': 0.9387755102040816, '...       0.714286   \n",
       "1  {'classifier__l1_ratio': 0.44897959183673464, ...       0.714286   \n",
       "2  {'classifier__l1_ratio': 0.32653061224489793, ...       0.714286   \n",
       "3  {'classifier__l1_ratio': 0.08163265306122448, ...       0.714286   \n",
       "4  {'classifier__l1_ratio': 0.9591836734693877, '...       0.714286   \n",
       "0  {'classifier__min_samples_split': 8, 'classifi...       0.714286   \n",
       "1  {'classifier__min_samples_split': 7, 'classifi...       0.707143   \n",
       "2  {'classifier__min_samples_split': 8, 'classifi...       0.694286   \n",
       "3  {'classifier__min_samples_split': 6, 'classifi...       0.714286   \n",
       "4  {'classifier__min_samples_split': 4, 'classifi...       0.714286   \n",
       "0  {'classifier__warm_start': True, 'classifier__...       0.714286   \n",
       "1  {'classifier__warm_start': False, 'classifier_...       0.721429   \n",
       "2  {'classifier__warm_start': True, 'classifier__...       0.714286   \n",
       "3  {'classifier__warm_start': True, 'classifier__...       0.714286   \n",
       "4  {'classifier__warm_start': True, 'classifier__...       0.714286   \n",
       "\n",
       "   wynik_zbior_2  wynik_zbior_3  wynik_zbior_4                   model  \\\n",
       "0       0.752246       0.880847       0.880847      LogisticRegression   \n",
       "1       0.752511       0.880847       0.880847      LogisticRegression   \n",
       "2       0.752246       0.880847       0.880847      LogisticRegression   \n",
       "3       0.752246       0.880847       0.880847      LogisticRegression   \n",
       "4       0.752246       0.880847       0.880847      LogisticRegression   \n",
       "0       0.704125       0.881163       0.881163  DecisionTreeClassifier   \n",
       "1       0.792440       0.887795       0.887795  DecisionTreeClassifier   \n",
       "2       0.809360       0.893485       0.893485  DecisionTreeClassifier   \n",
       "3       0.704125       0.881163       0.881163  DecisionTreeClassifier   \n",
       "4       0.704125       0.881163       0.881163  DecisionTreeClassifier   \n",
       "0       0.704125       0.881163       0.881163  RandomForestClassifier   \n",
       "1       0.835803       0.885905       0.885905  RandomForestClassifier   \n",
       "2       0.782919       0.881163       0.881163  RandomForestClassifier   \n",
       "3       0.704125       0.881163       0.881163  RandomForestClassifier   \n",
       "4       0.704125       0.881163       0.881163  RandomForestClassifier   \n",
       "\n",
       "   mean_result  \n",
       "0     0.807057  \n",
       "1     0.807123  \n",
       "2     0.807057  \n",
       "3     0.807057  \n",
       "4     0.807057  \n",
       "0     0.795184  \n",
       "1     0.818793  \n",
       "2     0.822654  \n",
       "3     0.795184  \n",
       "4     0.795184  \n",
       "0     0.795184  \n",
       "1     0.832260  \n",
       "2     0.814883  \n",
       "3     0.795184  \n",
       "4     0.795184  "
      ]
     },
     "execution_count": 50,
     "metadata": {},
     "output_type": "execute_result"
    }
   ],
   "source": [
    "results"
   ]
  },
  {
   "cell_type": "code",
   "execution_count": 52,
   "metadata": {},
   "outputs": [
    {
     "data": {
      "text/html": [
       "<div>\n",
       "<style scoped>\n",
       "    .dataframe tbody tr th:only-of-type {\n",
       "        vertical-align: middle;\n",
       "    }\n",
       "\n",
       "    .dataframe tbody tr th {\n",
       "        vertical-align: top;\n",
       "    }\n",
       "\n",
       "    .dataframe thead th {\n",
       "        text-align: right;\n",
       "    }\n",
       "</style>\n",
       "<table border=\"1\" class=\"dataframe\">\n",
       "  <thead>\n",
       "    <tr style=\"text-align: right;\">\n",
       "      <th></th>\n",
       "      <th>hiperparametry</th>\n",
       "      <th>wynik_zbior_1</th>\n",
       "      <th>wynik_zbior_2</th>\n",
       "      <th>wynik_zbior_3</th>\n",
       "      <th>wynik_zbior_4</th>\n",
       "      <th>model</th>\n",
       "      <th>mean_result</th>\n",
       "    </tr>\n",
       "  </thead>\n",
       "  <tbody>\n",
       "    <tr>\n",
       "      <th>1</th>\n",
       "      <td>{'classifier__warm_start': False, 'classifier_...</td>\n",
       "      <td>0.721429</td>\n",
       "      <td>0.835803</td>\n",
       "      <td>0.885905</td>\n",
       "      <td>0.885905</td>\n",
       "      <td>RandomForestClassifier</td>\n",
       "      <td>0.83226</td>\n",
       "    </tr>\n",
       "  </tbody>\n",
       "</table>\n",
       "</div>"
      ],
      "text/plain": [
       "                                      hiperparametry  wynik_zbior_1  \\\n",
       "1  {'classifier__warm_start': False, 'classifier_...       0.721429   \n",
       "\n",
       "   wynik_zbior_2  wynik_zbior_3  wynik_zbior_4                   model  \\\n",
       "1       0.835803       0.885905       0.885905  RandomForestClassifier   \n",
       "\n",
       "   mean_result  \n",
       "1      0.83226  "
      ]
     },
     "execution_count": 52,
     "metadata": {},
     "output_type": "execute_result"
    }
   ],
   "source": [
    "maxi = np.max(results['mean_result'])\n",
    "results[results['mean_result'] == maxi]"
   ]
  },
  {
   "cell_type": "markdown",
   "metadata": {},
   "source": [
    "# Bayes logisticRegression"
   ]
  },
  {
   "cell_type": "code",
   "execution_count": 26,
   "metadata": {},
   "outputs": [
    {
     "name": "stdout",
     "output_type": "stream",
     "text": [
      "Fit for set number 0 is done\n",
      "Fit for set number 1 is done\n",
      "Fit for set number 2 is done\n",
      "Fit for set number 3 is done\n"
     ]
    }
   ],
   "source": [
    "warnings.filterwarnings('ignore')\n",
    "\n",
    "lr = LogisticRegression(penalty='elasticnet', solver='saga', random_state=RANDOM_STATE, max_iter=1000)\n",
    "search_bayes_lr = getBayesCVResults(lr, grid_log_reg, 10, -1)\n",
    "\n",
    "warnings.filterwarnings('default')\n"
   ]
  },
  {
   "cell_type": "code",
   "execution_count": 36,
   "metadata": {},
   "outputs": [
    {
     "name": "stdout",
     "output_type": "stream",
     "text": [
      "Fit for set number 0 is done\n",
      "Fit for set number 1 is done\n",
      "Fit for set number 2 is done\n",
      "Fit for set number 3 is done\n"
     ]
    }
   ],
   "source": [
    "tree = DecisionTreeClassifier(random_state=RANDOM_STATE)\n",
    "search_bayes_tree = getBayesCVResults(tree, grid_tree, 50, -1)"
   ]
  },
  {
   "cell_type": "code",
   "execution_count": 49,
   "metadata": {},
   "outputs": [
    {
     "data": {
      "text/plain": [
       "[<matplotlib.lines.Line2D at 0x1c76019a340>]"
      ]
     },
     "execution_count": 49,
     "metadata": {},
     "output_type": "execute_result"
    },
    {
     "data": {
      "image/png": "[encoded data removed]",
      "text/plain": [
       "<Figure size 640x480 with 1 Axes>"
      ]
     },
     "metadata": {},
     "output_type": "display_data"
    }
   ],
   "source": [
    "plt.plot(range(0, len(search_bayes_tree[0].cv_results_['mean_test_score'])), search_bayes_tree[0].cv_results_['mean_test_score'])"
   ]
  },
  {
   "cell_type": "code",
   "execution_count": null,
   "metadata": {},
   "outputs": [],
   "source": [
    "grid_log_reg = {\n",
    "    'classifier__C': np.logspace(-4, 4, 50),\n",
    "    'classifier__l1_ratio': np.linspace(0, 1, 50)\n",
    "}\n",
    "\n",
    "grid_tree = {\n",
    "    'classifier__max_depth': np.concatenate(([None], range(5, 100, 5))),\n",
    "    'classifier__min_samples_split': list(range(2, 10)),\n",
    "    'classifier__min_samples_leaf': list(range(2, 50, 2)),\n",
    "    'classifier__max_leaf_nodes': np.concatenate(([None], range(30, 330, 30))),\n",
    "    'classifier__ccp_alpha': np.logspace(-3, 3, 50)\n",
    "}\n",
    "\n",
    "grid_forest = {\n",
    "    'classifier__max_depth': np.concatenate(([None], range(1, 11, 1))),\n",
    "    'classifier__min_samples_split': list(range(2, 10)),\n",
    "    'classifier__min_samples_leaf': list(range(2, 10, 1)),\n",
    "    'classifier__max_leaf_nodes': np.concatenate(([None], range(2, 50, 1))),\n",
    "    'classifier__ccp_alpha': np.logspace(-3, 2, 50),\n",
    "    'classifier__bootstrap': [True, False],\n",
    "    'classifier__warm_start': [True, False]\n",
    "}"
   ]
  },
  {
   "cell_type": "code",
   "execution_count": null,
   "metadata": {},
   "outputs": [],
   "source": [
    "from skopt.space import Real, Integer\n",
    "from skopt.utils import use_named_args\n",
    "space  = [Integer(1, 5, name='max_depth'),\n",
    "          Real(10**-3, 10**2, \"log-uniform\", name='learning_rate'),\n",
    "          Integer(2, 100, name='min_samples_split'),\n",
    "          Integer(1, 100, name='min_samples_leaf')]\n",
    "\n",
    "def objective(params):\n",
    "    "
   ]
  }
 ],
 "metadata": {
  "kernelspec": {
   "display_name": "Python 3",
   "language": "python",
   "name": "python3"
  },
  "language_info": {
   "codemirror_mode": {
    "name": "ipython",
    "version": 3
   },
   "file_extension": ".py",
   "mimetype": "text/x-python",
   "name": "python",
   "nbconvert_exporter": "python",
   "pygments_lexer": "ipython3",
   "version": "3.8.3"
  }
 },
 "nbformat": 4,
 "nbformat_minor": 2
}
