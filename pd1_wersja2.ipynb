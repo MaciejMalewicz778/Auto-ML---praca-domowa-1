{
 "cells": [
  {
   "cell_type": "code",
   "execution_count": 52,
   "metadata": {},
   "outputs": [],
   "source": [
    "import pandas as pd\n",
    "import numpy as np\n",
    "import matplotlib.pyplot as plt\n",
    "from sklearn.datasets import fetch_openml\n",
    "from sklearn.pipeline import Pipeline\n",
    "from sklearn.compose import ColumnTransformer\n",
    "from sklearn.preprocessing import OneHotEncoder\n",
    "from sklearn.impute import SimpleImputer\n",
    "from sklearn.model_selection import StratifiedKFold, RandomizedSearchCV\n",
    "# Models\n",
    "from sklearn.linear_model import LogisticRegression\n",
    "from sklearn.tree import DecisionTreeClassifier\n",
    "from sklearn.ensemble import RandomForestClassifier\n",
    "# skopt\n",
    "from skopt import BayesSearchCV\n",
    "\n",
    "#helpers\n",
    "import helpers"
   ]
  },
  {
   "cell_type": "code",
   "execution_count": 53,
   "metadata": {},
   "outputs": [],
   "source": [
    "results = pd.DataFrame({'hiperparametry': [], 'wynik_zbior_1': [], 'wynik_zbior_2': [], 'wynik_zbior_3': [], 'wynik_zbior_4': [], 'model': []})"
   ]
  },
  {
   "cell_type": "code",
   "execution_count": 54,
   "metadata": {},
   "outputs": [],
   "source": [
    "import warnings\n",
    "warnings.filterwarnings('ignore')"
   ]
  },
  {
   "cell_type": "code",
   "execution_count": 113,
   "metadata": {},
   "outputs": [],
   "source": [
    "RANDOM_STATE = 123\n",
    "RANDOM_STATES = [100, 200, 300, 400]"
   ]
  },
  {
   "cell_type": "code",
   "execution_count": 56,
   "metadata": {},
   "outputs": [],
   "source": [
    "# Load datasets\n",
    "import warnings\n",
    "warnings.filterwarnings('ignore')\n",
    "\n",
    "Xs = []\n",
    "ys = []\n",
    "\n",
    "df_1 = fetch_openml(data_id=31)\n",
    "df_2 = fetch_openml(data_id=1489)\n",
    "df_3 = fetch_openml(data_id=1558)\n",
    "df_4 = fetch_openml(data_id=1053)\n",
    "\n",
    "X_1 = df_1.data\n",
    "y_1 = df_1.target\n",
    "Xs.append(X_1)\n",
    "ys.append(y_1)\n",
    "\n",
    "X_2 = df_2.data\n",
    "y_2 = df_2.target\n",
    "Xs.append(X_2)\n",
    "ys.append(y_2)\n",
    "\n",
    "X_3 = df_3.data\n",
    "y_3 = df_3.target\n",
    "Xs.append(X_3)\n",
    "ys.append(y_3)\n",
    "\n",
    "X_4 = df_4.data\n",
    "y_4 = df_4.target\n",
    "Xs.append(X_4)\n",
    "ys.append(y_4)\n",
    "\n",
    "warnings.filterwarnings('default')"
   ]
  },
  {
   "cell_type": "code",
   "execution_count": 57,
   "metadata": {},
   "outputs": [],
   "source": [
    "cols_num = []\n",
    "cols_cat = []\n",
    "\n",
    "for i in range(len(Xs)):\n",
    "     numeric_features = Xs[i].select_dtypes(exclude=['category']).columns\n",
    "     categorical_features = Xs[i].select_dtypes(include=['category']).columns\n",
    "\n",
    "     cols_num.append(numeric_features)\n",
    "     cols_cat.append(categorical_features)"
   ]
  },
  {
   "cell_type": "code",
   "execution_count": 58,
   "metadata": {},
   "outputs": [],
   "source": [
    "# helper function to wrap model and do imputing and encoding\n",
    "\n",
    "def getPipeline(model, num_cols, cat_cols):\n",
    "    numeric_transformer = Pipeline(\n",
    "        steps=[(\"imputer\", SimpleImputer(strategy=\"median\"))]\n",
    "    )\n",
    "\n",
    "    categorical_transformer = Pipeline(\n",
    "        steps=[\n",
    "            (\"imputer\", SimpleImputer(strategy='most_frequent')),\n",
    "            (\"encoder\", OneHotEncoder(handle_unknown=\"ignore\"))\n",
    "        ]\n",
    "    )\n",
    "    preprocessor = ColumnTransformer(\n",
    "        transformers=[\n",
    "            (\"num\", numeric_transformer, num_cols),\n",
    "            (\"cat\", categorical_transformer, cat_cols),\n",
    "        ]\n",
    "    )\n",
    "\n",
    "    pipe = Pipeline(\n",
    "    steps=[(\"preprocessor\", preprocessor), (\"classifier\", model)]\n",
    "    )\n",
    "\n",
    "    return pipe"
   ]
  },
  {
   "cell_type": "markdown",
   "metadata": {},
   "source": [
    "### Parameters grid"
   ]
  },
  {
   "cell_type": "code",
   "execution_count": 59,
   "metadata": {},
   "outputs": [],
   "source": [
    "grid_log_reg = {\n",
    "    'classifier__C': np.logspace(-4, 4, 400),\n",
    "    'classifier__l1_ratio': np.linspace(0, 1, 400)\n",
    "}\n",
    "\n",
    "grid_tree = {\n",
    "    'classifier__max_depth': np.concatenate(([None], range(5, 100, 1))),\n",
    "    'classifier__min_samples_split': list(range(2, 20, 1)),\n",
    "    'classifier__min_samples_leaf': list(range(2, 50, 1)),\n",
    "    'classifier__max_leaf_nodes': np.concatenate(([None], range(30, 330, 1))),\n",
    "    'classifier__ccp_alpha': np.logspace(-3, 3, 200)\n",
    "}\n",
    "\n",
    "grid_forest = {\n",
    "    'classifier__max_depth': np.concatenate(([None], range(1, 20, 1))),\n",
    "    'classifier__min_samples_split': list(range(2, 10)),\n",
    "    'classifier__min_samples_leaf': list(range(2, 10, 1)),\n",
    "    'classifier__max_leaf_nodes': np.concatenate(([None], range(2, 50, 1))),\n",
    "    'classifier__ccp_alpha': np.logspace(-3, 2, 200),\n",
    "    'classifier__bootstrap': [True, False],\n",
    "    'classifier__warm_start': [True, False]\n",
    "}"
   ]
  },
  {
   "cell_type": "code",
   "execution_count": 60,
   "metadata": {},
   "outputs": [],
   "source": [
    "cv = StratifiedKFold(n_splits=5, shuffle=True, random_state=RANDOM_STATE)"
   ]
  },
  {
   "cell_type": "markdown",
   "metadata": {},
   "source": [
    "### Important helpers. They Return best CV scores and params for each set"
   ]
  },
  {
   "cell_type": "code",
   "execution_count": 80,
   "metadata": {},
   "outputs": [],
   "source": [
    "def getRandomCVResults(model, grid, n_iter=10, n_jobs=1, verbose=0):\n",
    "    search_res = []\n",
    "    for i in range(len(Xs)):\n",
    "        clf = getPipeline(model, cols_num[i], cols_cat[i])\n",
    "\n",
    "        res = RandomizedSearchCV(clf, param_distributions=grid, random_state=RANDOM_STATE, cv=cv, scoring='accuracy', n_iter=n_iter, n_jobs=n_jobs, verbose=verbose)\n",
    "        res.fit(Xs[i], ys[i])\n",
    "\n",
    "        search_res.append(res)\n",
    "        print(f\"Fit for set number {i} is done\")\n",
    "        \n",
    "    return search_res\n",
    "\n",
    "def getBayesCVResults(model, grid, n_iter=10, n_jobs=1, verbose=0, n_points=1, random_states=[RANDOM_STATE, RANDOM_STATE, RANDOM_STATE, RANDOM_STATE]):\n",
    "    search_res = []\n",
    "    for i in range(len(Xs)):\n",
    "        clf = getPipeline(model, cols_num[i], cols_cat[i])\n",
    "\n",
    "        res = BayesSearchCV(clf, search_spaces=grid, cv=cv, scoring='accuracy', n_iter=n_iter, n_jobs=n_jobs, verbose=verbose, n_points=n_points, random_state=random_states[i])\n",
    "        res.fit(Xs[i], ys[i])\n",
    "        search_res.append(res)\n",
    "        print(f\"Fit for set number {i} is done\")\n",
    "    \n",
    "    return search_res\n"
   ]
  },
  {
   "cell_type": "markdown",
   "metadata": {},
   "source": [
    "# Logistic Regression"
   ]
  },
  {
   "cell_type": "markdown",
   "metadata": {},
   "source": [
    "### Look for best hyperparams (Random search method) for each set"
   ]
  },
  {
   "cell_type": "code",
   "execution_count": 62,
   "metadata": {},
   "outputs": [
    {
     "name": "stdout",
     "output_type": "stream",
     "text": [
      "Fit for set number 0 is done\n",
      "Fit for set number 1 is done\n",
      "Fit for set number 2 is done\n",
      "Fit for set number 3 is done\n"
     ]
    }
   ],
   "source": [
    "warnings.filterwarnings('ignore')\n",
    "\n",
    "lr = LogisticRegression(penalty='elasticnet', solver='saga', random_state=RANDOM_STATE, max_iter=1000)\n",
    "search_rand_lr = getRandomCVResults(lr, grid_log_reg, 5, -1)\n",
    "\n",
    "warnings.filterwarnings('default')"
   ]
  },
  {
   "cell_type": "code",
   "execution_count": 63,
   "metadata": {},
   "outputs": [],
   "source": [
    "res_lr = {\n",
    "    'hiperparametry': search_rand_lr[0].cv_results_['params'], \n",
    "    'wynik_zbior_1': search_rand_lr[0].cv_results_['mean_test_score'], \n",
    "    'wynik_zbior_2': search_rand_lr[1].cv_results_['mean_test_score'], \n",
    "    'wynik_zbior_3': search_rand_lr[2].cv_results_['mean_test_score'], \n",
    "    'wynik_zbior_4': search_rand_lr[3].cv_results_['mean_test_score']\n",
    "}\n",
    "\n",
    "results_lr = pd.DataFrame(res_lr)\n",
    "results_lr['model'] = 'LogisticRegression'\n",
    "results_lr['mean_result'] = (results_lr['wynik_zbior_1'] + results_lr['wynik_zbior_2'] + results_lr['wynik_zbior_3'] + results_lr['wynik_zbior_4']) / 4\n",
    "\n",
    "theta_lr = np.max(results_lr['mean_result'])"
   ]
  },
  {
   "cell_type": "markdown",
   "metadata": {},
   "source": [
    "# Decision Tree"
   ]
  },
  {
   "cell_type": "code",
   "execution_count": 64,
   "metadata": {},
   "outputs": [
    {
     "name": "stdout",
     "output_type": "stream",
     "text": [
      "Fit for set number 0 is done\n",
      "Fit for set number 1 is done\n",
      "Fit for set number 2 is done\n"
     ]
    },
    {
     "name": "stderr",
     "output_type": "stream",
     "text": [
      "C:\\Users\\macie\\AppData\\Roaming\\Python\\Python38\\site-packages\\sklearn\\model_selection\\_split.py:700: UserWarning: The least populated class in y has only 1 members, which is less than n_splits=5.\n",
      "  warnings.warn(\n"
     ]
    },
    {
     "name": "stdout",
     "output_type": "stream",
     "text": [
      "Fit for set number 3 is done\n"
     ]
    }
   ],
   "source": [
    "tree = DecisionTreeClassifier(random_state=RANDOM_STATE)\n",
    "search_rand_tree = getRandomCVResults(tree, grid_tree, n_iter=5, n_jobs=-1)"
   ]
  },
  {
   "cell_type": "code",
   "execution_count": 65,
   "metadata": {},
   "outputs": [],
   "source": [
    "res_tree = {\n",
    "    'hiperparametry': search_rand_tree[0].cv_results_['params'], \n",
    "    'wynik_zbior_1': search_rand_tree[0].cv_results_['mean_test_score'], \n",
    "    'wynik_zbior_2': search_rand_tree[1].cv_results_['mean_test_score'], \n",
    "    'wynik_zbior_3': search_rand_tree[2].cv_results_['mean_test_score'], \n",
    "    'wynik_zbior_4': search_rand_tree[3].cv_results_['mean_test_score']\n",
    "}\n",
    "\n",
    "results_tree = pd.DataFrame(res_tree)\n",
    "results_tree['model'] = 'DecisionTreeClassifier'\n",
    "results_tree['mean_result'] = (results_tree['wynik_zbior_1'] + results_tree['wynik_zbior_2'] + results_tree['wynik_zbior_3'] + results_tree['wynik_zbior_4']) / 4\n",
    "\n",
    "theta_tree = np.max(results_tree['mean_result'])"
   ]
  },
  {
   "cell_type": "markdown",
   "metadata": {},
   "source": [
    "# Random Forest"
   ]
  },
  {
   "cell_type": "code",
   "execution_count": 66,
   "metadata": {},
   "outputs": [
    {
     "name": "stdout",
     "output_type": "stream",
     "text": [
      "Fit for set number 0 is done\n",
      "Fit for set number 1 is done\n",
      "Fit for set number 2 is done\n"
     ]
    },
    {
     "name": "stderr",
     "output_type": "stream",
     "text": [
      "C:\\Users\\macie\\AppData\\Roaming\\Python\\Python38\\site-packages\\sklearn\\model_selection\\_split.py:700: UserWarning: The least populated class in y has only 1 members, which is less than n_splits=5.\n",
      "  warnings.warn(\n"
     ]
    },
    {
     "name": "stdout",
     "output_type": "stream",
     "text": [
      "Fit for set number 3 is done\n"
     ]
    }
   ],
   "source": [
    "forest = RandomForestClassifier(random_state=RANDOM_STATE)\n",
    "search_rand_forest = getRandomCVResults(forest, grid_forest, n_iter=5, n_jobs=-1)"
   ]
  },
  {
   "cell_type": "code",
   "execution_count": 67,
   "metadata": {},
   "outputs": [],
   "source": [
    "res_forest = {\n",
    "    'hiperparametry': search_rand_forest[0].cv_results_['params'], \n",
    "    'wynik_zbior_1': search_rand_forest[0].cv_results_['mean_test_score'], \n",
    "    'wynik_zbior_2': search_rand_forest[1].cv_results_['mean_test_score'], \n",
    "    'wynik_zbior_3': search_rand_forest[2].cv_results_['mean_test_score'], \n",
    "    'wynik_zbior_4': search_rand_forest[3].cv_results_['mean_test_score']\n",
    "}\n",
    "\n",
    "results_forest = pd.DataFrame(res_forest)\n",
    "results_forest['model'] = 'RandomForestClassifier'\n",
    "results_forest['mean_result'] = (results_forest['wynik_zbior_1'] + results_forest['wynik_zbior_2'] + results_forest['wynik_zbior_3'] + results_forest['wynik_zbior_4']) / 4\n",
    "\n",
    "theta_forest = np.max(results_forest['mean_result'])"
   ]
  },
  {
   "cell_type": "markdown",
   "metadata": {},
   "source": [
    "# BAYES !!!!!!!!!!!!!!!!!!!!!!!!!!"
   ]
  },
  {
   "cell_type": "code",
   "execution_count": 82,
   "metadata": {},
   "outputs": [
    {
     "name": "stdout",
     "output_type": "stream",
     "text": [
      "Fit for set number 0 is done\n",
      "Fit for set number 1 is done\n",
      "Fit for set number 2 is done\n",
      "Fit for set number 3 is done\n"
     ]
    }
   ],
   "source": [
    "warnings.filterwarnings('ignore')\n",
    "\n",
    "lr = LogisticRegression(penalty='elasticnet', solver='saga', random_state=RANDOM_STATE, max_iter=1000)\n",
    "# give different random state each time to generate different start hyperParams to Bayes\n",
    "search_bayes_lr = getBayesCVResults(lr, grid_log_reg, n_iter=5, n_jobs=-1, random_states=RANDOM_STATES)\n",
    "\n",
    "warnings.filterwarnings('default')"
   ]
  },
  {
   "cell_type": "code",
   "execution_count": 83,
   "metadata": {},
   "outputs": [
    {
     "name": "stdout",
     "output_type": "stream",
     "text": [
      "Fit for set number 0 is done\n",
      "Fit for set number 1 is done\n",
      "Fit for set number 2 is done\n"
     ]
    },
    {
     "name": "stderr",
     "output_type": "stream",
     "text": [
      "C:\\Users\\macie\\AppData\\Roaming\\Python\\Python38\\site-packages\\sklearn\\model_selection\\_split.py:700: UserWarning: The least populated class in y has only 1 members, which is less than n_splits=5.\n",
      "  warnings.warn(\n",
      "C:\\Users\\macie\\AppData\\Roaming\\Python\\Python38\\site-packages\\sklearn\\model_selection\\_split.py:700: UserWarning: The least populated class in y has only 1 members, which is less than n_splits=5.\n",
      "  warnings.warn(\n",
      "C:\\Users\\macie\\AppData\\Roaming\\Python\\Python38\\site-packages\\sklearn\\model_selection\\_split.py:700: UserWarning: The least populated class in y has only 1 members, which is less than n_splits=5.\n",
      "  warnings.warn(\n",
      "C:\\Users\\macie\\AppData\\Roaming\\Python\\Python38\\site-packages\\sklearn\\model_selection\\_split.py:700: UserWarning: The least populated class in y has only 1 members, which is less than n_splits=5.\n",
      "  warnings.warn(\n",
      "C:\\Users\\macie\\AppData\\Roaming\\Python\\Python38\\site-packages\\sklearn\\model_selection\\_split.py:700: UserWarning: The least populated class in y has only 1 members, which is less than n_splits=5.\n",
      "  warnings.warn(\n"
     ]
    },
    {
     "name": "stdout",
     "output_type": "stream",
     "text": [
      "Fit for set number 3 is done\n"
     ]
    }
   ],
   "source": [
    "tree = DecisionTreeClassifier(random_state=RANDOM_STATE)\n",
    "# give different random state each time to generate different start hyperParams to Bayes\n",
    "random_states = [100, 200, 300, 400]\n",
    "search_bayes_tree = getBayesCVResults(tree, grid_tree, n_iter=5, n_jobs=-1, random_states=RANDOM_STATES)"
   ]
  },
  {
   "cell_type": "code",
   "execution_count": 84,
   "metadata": {},
   "outputs": [
    {
     "name": "stdout",
     "output_type": "stream",
     "text": [
      "Fit for set number 0 is done\n",
      "Fit for set number 1 is done\n",
      "Fit for set number 2 is done\n"
     ]
    },
    {
     "name": "stderr",
     "output_type": "stream",
     "text": [
      "C:\\Users\\macie\\AppData\\Roaming\\Python\\Python38\\site-packages\\sklearn\\model_selection\\_split.py:700: UserWarning: The least populated class in y has only 1 members, which is less than n_splits=5.\n",
      "  warnings.warn(\n",
      "C:\\Users\\macie\\AppData\\Roaming\\Python\\Python38\\site-packages\\sklearn\\model_selection\\_split.py:700: UserWarning: The least populated class in y has only 1 members, which is less than n_splits=5.\n",
      "  warnings.warn(\n",
      "C:\\Users\\macie\\AppData\\Roaming\\Python\\Python38\\site-packages\\sklearn\\model_selection\\_split.py:700: UserWarning: The least populated class in y has only 1 members, which is less than n_splits=5.\n",
      "  warnings.warn(\n",
      "C:\\Users\\macie\\AppData\\Roaming\\Python\\Python38\\site-packages\\sklearn\\model_selection\\_split.py:700: UserWarning: The least populated class in y has only 1 members, which is less than n_splits=5.\n",
      "  warnings.warn(\n",
      "C:\\Users\\macie\\AppData\\Roaming\\Python\\Python38\\site-packages\\sklearn\\model_selection\\_split.py:700: UserWarning: The least populated class in y has only 1 members, which is less than n_splits=5.\n",
      "  warnings.warn(\n"
     ]
    },
    {
     "name": "stdout",
     "output_type": "stream",
     "text": [
      "Fit for set number 3 is done\n"
     ]
    }
   ],
   "source": [
    "forest = RandomForestClassifier(random_state=RANDOM_STATE)\n",
    "# give different random state each time to generate different start hyperParams to Bayes\n",
    "search_bayes_forest = getBayesCVResults(forest, grid_forest, n_iter=5, n_jobs=-1, random_states=RANDOM_STATES)"
   ]
  },
  {
   "cell_type": "code",
   "execution_count": 85,
   "metadata": {},
   "outputs": [],
   "source": [
    "res_bayes_lr = {\n",
    "    'hiperparametry_zbior_1': search_bayes_lr[0].cv_results_['params'],\n",
    "    'wynik_zbior_1': search_bayes_lr[0].cv_results_['mean_test_score'],\n",
    "\n",
    "    'hiperparametry_zbior_2': search_bayes_lr[1].cv_results_['params'],\n",
    "    'wynik_zbior_2': search_bayes_lr[1].cv_results_['mean_test_score'], \n",
    "\n",
    "    'hiperparametry_zbior_3': search_bayes_lr[2].cv_results_['params'],\n",
    "    'wynik_zbior_3': search_bayes_lr[2].cv_results_['mean_test_score'], \n",
    "\n",
    "    'hiperparametry_zbior_4': search_rand_lr[3].cv_results_['params'],\n",
    "    'wynik_zbior_4': search_bayes_lr[3].cv_results_['mean_test_score']\n",
    "}\n",
    "\n",
    "results_bayes_lr = pd.DataFrame(res_bayes_lr)\n",
    "results_bayes_lr['model'] = 'LogisticRegression'"
   ]
  },
  {
   "cell_type": "code",
   "execution_count": 86,
   "metadata": {},
   "outputs": [],
   "source": [
    "res_bayes_tree = {\n",
    "    'hiperparametry_zbior_1': search_bayes_tree[0].cv_results_['params'],\n",
    "    'wynik_zbior_1': search_bayes_tree[0].cv_results_['mean_test_score'],\n",
    "\n",
    "    'hiperparametry_zbior_2': search_bayes_tree[1].cv_results_['params'],\n",
    "    'wynik_zbior_2': search_bayes_tree[1].cv_results_['mean_test_score'], \n",
    "\n",
    "    'hiperparametry_zbior_3': search_bayes_tree[2].cv_results_['params'],\n",
    "    'wynik_zbior_3': search_bayes_tree[2].cv_results_['mean_test_score'], \n",
    "\n",
    "    'hiperparametry_zbior_4': search_rand_tree[3].cv_results_['params'],\n",
    "    'wynik_zbior_4': search_bayes_tree[3].cv_results_['mean_test_score']\n",
    "}\n",
    "\n",
    "results_bayes_tree = pd.DataFrame(res_bayes_tree)\n",
    "results_bayes_tree['model'] = 'DecisionTreeClassifier'"
   ]
  },
  {
   "cell_type": "code",
   "execution_count": 87,
   "metadata": {},
   "outputs": [],
   "source": [
    "res_bayes_forest = {\n",
    "    'hiperparametry_zbior_1': search_bayes_forest[0].cv_results_['params'],\n",
    "    'wynik_zbior_1': search_bayes_forest[0].cv_results_['mean_test_score'],\n",
    "\n",
    "    'hiperparametry_zbior_2': search_bayes_forest[1].cv_results_['params'],\n",
    "    'wynik_zbior_2': search_bayes_forest[1].cv_results_['mean_test_score'], \n",
    "\n",
    "    'hiperparametry_zbior_3': search_bayes_forest[2].cv_results_['params'],\n",
    "    'wynik_zbior_3': search_bayes_forest[2].cv_results_['mean_test_score'], \n",
    "\n",
    "    'hiperparametry_zbior_4': search_rand_forest[3].cv_results_['params'],\n",
    "    'wynik_zbior_4': search_bayes_forest[3].cv_results_['mean_test_score']\n",
    "}\n",
    "\n",
    "results_bayes_forest = pd.DataFrame(res_bayes_forest)\n",
    "results_bayes_forest['model'] = 'RandomForestClassifier'"
   ]
  },
  {
   "cell_type": "code",
   "execution_count": null,
   "metadata": {},
   "outputs": [],
   "source": [
    "# Mamy do dyspozycji\n",
    "results_lr\n",
    "results_tree\n",
    "res_forest\n",
    "\n",
    "theta_lr\n",
    "theta_tree\n",
    "theta_forest\n",
    "\n",
    "results_bayes_lr\n",
    "results_bayes_tree\n",
    "results_bayes_forest"
   ]
  },
  {
   "cell_type": "code",
   "execution_count": 99,
   "metadata": {},
   "outputs": [
    {
     "data": {
      "text/plain": [
       "{'whiskers': [<matplotlib.lines.Line2D at 0x23eaaf0ffd0>,\n",
       "  <matplotlib.lines.Line2D at 0x23eaaf42430>,\n",
       "  <matplotlib.lines.Line2D at 0x23eaaf323d0>,\n",
       "  <matplotlib.lines.Line2D at 0x23eaaf32e80>,\n",
       "  <matplotlib.lines.Line2D at 0x23eab1651c0>,\n",
       "  <matplotlib.lines.Line2D at 0x23eab165dc0>],\n",
       " 'caps': [<matplotlib.lines.Line2D at 0x23eaaf42d00>,\n",
       "  <matplotlib.lines.Line2D at 0x23eab10ab50>,\n",
       "  <matplotlib.lines.Line2D at 0x23eaaf32a30>,\n",
       "  <matplotlib.lines.Line2D at 0x23eab0ee8b0>,\n",
       "  <matplotlib.lines.Line2D at 0x23eab1650d0>,\n",
       "  <matplotlib.lines.Line2D at 0x23ea67be3a0>],\n",
       " 'boxes': [<matplotlib.lines.Line2D at 0x23eab2aac10>,\n",
       "  <matplotlib.lines.Line2D at 0x23eaaf44460>,\n",
       "  <matplotlib.lines.Line2D at 0x23eab1d3970>],\n",
       " 'medians': [<matplotlib.lines.Line2D at 0x23eab10a550>,\n",
       "  <matplotlib.lines.Line2D at 0x23eab0ee190>,\n",
       "  <matplotlib.lines.Line2D at 0x23ea67b03d0>],\n",
       " 'fliers': [<matplotlib.lines.Line2D at 0x23eaaf44d90>,\n",
       "  <matplotlib.lines.Line2D at 0x23eab0ee100>,\n",
       "  <matplotlib.lines.Line2D at 0x23ea66d0220>],\n",
       " 'means': []}"
      ]
     },
     "execution_count": 99,
     "metadata": {},
     "output_type": "execute_result"
    },
    {
     "data": {
      "image/png": "[encoded data removed]",
      "text/plain": [
       "<Figure size 640x480 with 1 Axes>"
      ]
     },
     "metadata": {},
     "output_type": "display_data"
    }
   ],
   "source": [
    "to_boxplot = [theta_lr - results_lr['mean_result'], theta_tree - results_tree['mean_result'], theta_forest - results_forest['mean_result']]\n",
    "\n",
    "plt.boxplot(to_boxplot)"
   ]
  },
  {
   "cell_type": "code",
   "execution_count": 112,
   "metadata": {},
   "outputs": [
    {
     "data": {
      "text/plain": [
       "{'whiskers': [<matplotlib.lines.Line2D at 0x23eacfcda60>,\n",
       "  <matplotlib.lines.Line2D at 0x23eacfcddf0>],\n",
       " 'caps': [<matplotlib.lines.Line2D at 0x23eacfd91c0>,\n",
       "  <matplotlib.lines.Line2D at 0x23eacfd9550>],\n",
       " 'boxes': [<matplotlib.lines.Line2D at 0x23eacfcd6d0>],\n",
       " 'medians': [<matplotlib.lines.Line2D at 0x23eacfd98e0>],\n",
       " 'fliers': [<matplotlib.lines.Line2D at 0x23eacfd9c70>],\n",
       " 'means': []}"
      ]
     },
     "execution_count": 112,
     "metadata": {},
     "output_type": "execute_result"
    },
    {
     "data": {
      "image/png": "[encoded data removed]",
      "text/plain": [
       "<Figure size 640x480 with 1 Axes>"
      ]
     },
     "metadata": {},
     "output_type": "display_data"
    }
   ],
   "source": [
    "set_1_bayes_to_boxplot = [theta_forest - results_bayes_forest['wynik_zbior_1']]\n",
    "plt.boxplot(theta_lr - results_bayes_lr['wynik_zbior_4'])"
   ]
  }
 ],
 "metadata": {
  "kernelspec": {
   "display_name": "Python 3",
   "language": "python",
   "name": "python3"
  },
  "language_info": {
   "codemirror_mode": {
    "name": "ipython",
    "version": 3
   },
   "file_extension": ".py",
   "mimetype": "text/x-python",
   "name": "python",
   "nbconvert_exporter": "python",
   "pygments_lexer": "ipython3",
   "version": "3.8.3"
  }
 },
 "nbformat": 4,
 "nbformat_minor": 2
}
