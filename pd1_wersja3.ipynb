{
 "cells": [
  {
   "cell_type": "code",
   "execution_count": 52,
   "metadata": {},
   "outputs": [],
   "source": [
    "import pandas as pd\n",
    "import numpy as np\n",
    "import matplotlib.pyplot as plt\n",
    "\n",
    "from sklearn.datasets import fetch_openml\n",
    "from sklearn.model_selection import train_test_split\n",
    "from sklearn.pipeline import Pipeline\n",
    "from sklearn.compose import ColumnTransformer\n",
    "from sklearn.preprocessing import OneHotEncoder\n",
    "from sklearn.impute import SimpleImputer\n",
    "from sklearn.model_selection import StratifiedKFold, RandomizedSearchCV, cross_val_score\n",
    "# Models\n",
    "from sklearn.linear_model import LogisticRegression\n",
    "from sklearn.tree import DecisionTreeClassifier\n",
    "from sklearn.ensemble import RandomForestClassifier\n",
    "# skopt\n",
    "from skopt import BayesSearchCV\n",
    "\n",
    "#helpers\n",
    "import helpers"
   ]
  },
  {
   "cell_type": "code",
   "execution_count": 53,
   "metadata": {},
   "outputs": [],
   "source": [
    "results = pd.DataFrame({'hiperparametry': [], 'wynik_zbior_1': [], 'wynik_zbior_2': [], 'wynik_zbior_3': [], 'wynik_zbior_4': [], 'model': []})"
   ]
  },
  {
   "cell_type": "code",
   "execution_count": 54,
   "metadata": {},
   "outputs": [],
   "source": [
    "import warnings\n",
    "warnings.filterwarnings('ignore')"
   ]
  },
  {
   "cell_type": "code",
   "execution_count": 55,
   "metadata": {},
   "outputs": [],
   "source": [
    "RANDOM_STATE = 123"
   ]
  },
  {
   "cell_type": "code",
   "execution_count": 56,
   "metadata": {},
   "outputs": [],
   "source": [
    "# Load datasets\n",
    "import warnings\n",
    "warnings.filterwarnings('ignore')\n",
    "\n",
    "Xs = []\n",
    "ys = []\n",
    "\n",
    "df_1 = fetch_openml(data_id=31)\n",
    "df_2 = fetch_openml(data_id=1489)\n",
    "df_3 = fetch_openml(data_id=1558)\n",
    "df_4 = fetch_openml(data_id=183)\n",
    "\n",
    "X_1 = df_1.data\n",
    "y_1 = df_1.target\n",
    "Xs.append(X_1)\n",
    "ys.append(y_1)\n",
    "\n",
    "X_2 = df_2.data\n",
    "y_2 = df_2.target\n",
    "Xs.append(X_2)\n",
    "ys.append(y_2)\n",
    "\n",
    "X_3 = df_3.data\n",
    "y_3 = df_3.target\n",
    "Xs.append(X_3)\n",
    "ys.append(y_3)\n",
    "\n",
    "X_4 = df_4.data\n",
    "y_4 = df_4.target\n",
    "Xs.append(X_4)\n",
    "ys.append(y_4)\n",
    "\n",
    "warnings.filterwarnings('default')"
   ]
  },
  {
   "cell_type": "code",
   "execution_count": 57,
   "metadata": {},
   "outputs": [],
   "source": [
    "# split datasets into train and test\n",
    "# X_train_arr = []\n",
    "# X_test_arr = []\n",
    "# y_train_arr = []\n",
    "# y_test_arr = []\n",
    "cols_num = []\n",
    "cols_cat = []\n",
    "\n",
    "for i in range(len(Xs)):\n",
    "#     X_train, X_test, y_train, y_test = train_test_split(Xs[i], ys[i], test_size=0.3, random_state=RANDOM_STATE)\n",
    "\n",
    "#     X_train_arr.append(X_train)\n",
    "#     X_test_arr.append(X_test)\n",
    "#     y_train_arr.append(y_train)\n",
    "#     y_test_arr.append(y_test)\n",
    "\n",
    "     numeric_features = Xs[i].select_dtypes(exclude=['category']).columns\n",
    "     categorical_features = Xs[i].select_dtypes(include=['category']).columns\n",
    "\n",
    "     cols_num.append(numeric_features)\n",
    "     cols_cat.append(categorical_features)"
   ]
  },
  {
   "cell_type": "code",
   "execution_count": 58,
   "metadata": {},
   "outputs": [],
   "source": [
    "# helper function to wrap model and do imputing and encoding\n",
    "\n",
    "def getPipeline(model, num_cols, cat_cols):\n",
    "    numeric_transformer = Pipeline(\n",
    "        steps=[(\"imputer\", SimpleImputer(strategy=\"median\"))]\n",
    "    )\n",
    "\n",
    "    categorical_transformer = Pipeline(\n",
    "        steps=[\n",
    "            (\"imputer\", SimpleImputer(strategy='most_frequent')),\n",
    "            (\"encoder\", OneHotEncoder(handle_unknown=\"ignore\"))\n",
    "        ]\n",
    "    )\n",
    "    preprocessor = ColumnTransformer(\n",
    "        transformers=[\n",
    "            (\"num\", numeric_transformer, num_cols),\n",
    "            (\"cat\", categorical_transformer, cat_cols),\n",
    "        ]\n",
    "    )\n",
    "\n",
    "    pipe = Pipeline(\n",
    "    steps=[(\"preprocessor\", preprocessor), (\"classifier\", model)]\n",
    "    )\n",
    "\n",
    "    return pipe"
   ]
  },
  {
   "cell_type": "markdown",
   "metadata": {},
   "source": [
    "### Parameters grid"
   ]
  },
  {
   "cell_type": "code",
   "execution_count": 59,
   "metadata": {},
   "outputs": [],
   "source": [
    "grid_log_reg = {\n",
    "    'classifier__C': np.logspace(-4, 4, 50),\n",
    "    'classifier__l1_ratio': np.linspace(0, 1, 50)\n",
    "}\n",
    "\n",
    "grid_tree = {\n",
    "    'classifier__max_depth': np.concatenate(([None], range(5, 100, 5))),\n",
    "    'classifier__min_samples_split': list(range(2, 10)),\n",
    "    'classifier__min_samples_leaf': list(range(2, 50, 2)),\n",
    "    'classifier__max_leaf_nodes': np.concatenate(([None], range(30, 330, 30))),\n",
    "    'classifier__ccp_alpha': np.logspace(-3, 3, 50)\n",
    "}\n",
    "\n",
    "grid_forest = {\n",
    "    'classifier__max_depth': np.concatenate(([None], range(1, 11, 1))),\n",
    "    'classifier__min_samples_split': list(range(2, 10)),\n",
    "    'classifier__min_samples_leaf': list(range(2, 10, 1)),\n",
    "    'classifier__max_leaf_nodes': np.concatenate(([None], range(2, 50, 1))),\n",
    "    'classifier__ccp_alpha': np.logspace(-3, 2, 50),\n",
    "    'classifier__bootstrap': [True, False],\n",
    "    'classifier__warm_start': [True, False]\n",
    "}"
   ]
  },
  {
   "cell_type": "code",
   "execution_count": 60,
   "metadata": {},
   "outputs": [],
   "source": [
    "cv = StratifiedKFold(n_splits=5, shuffle=True, random_state=RANDOM_STATE)"
   ]
  },
  {
   "cell_type": "markdown",
   "metadata": {},
   "source": [
    "### Important helpers. They Return best CV scores and params for each set"
   ]
  },
  {
   "cell_type": "code",
   "execution_count": 61,
   "metadata": {},
   "outputs": [],
   "source": [
    "def getRandomCVResults(model, grid, n_iter=10, n_jobs=1, verbose=0):\n",
    "    search_res = []\n",
    "    for i in range(len(Xs)):\n",
    "        clf = getPipeline(model, cols_num[i], cols_cat[i])\n",
    "\n",
    "        res = RandomizedSearchCV(clf, param_distributions=grid, random_state=RANDOM_STATE, cv=cv, scoring='accuracy', n_iter=n_iter, n_jobs=n_jobs, verbose=verbose)\n",
    "        res.fit(Xs[i], ys[i])\n",
    "\n",
    "        search_res.append(res)\n",
    "        print(f\"Fit for set number {i} is done\")\n",
    "        \n",
    "    return search_res\n",
    "\n",
    "def getBayesCVResults(model, grid, n_iter=10, n_jobs=1, verbose=0, n_points=1, random_state=RANDOM_STATE):\n",
    "    search_res = []\n",
    "    for i in range(len(Xs)):\n",
    "        clf = getPipeline(model, cols_num[i], cols_cat[i])\n",
    "\n",
    "        res = BayesSearchCV(clf, search_spaces=grid, cv=cv, scoring='accuracy', n_iter=n_iter, n_jobs=n_jobs, verbose=verbose, n_points=n_points, random_state=random_state)\n",
    "        res.fit(Xs[i], ys[i])\n",
    "        search_res.append(res)\n",
    "        print(f\"Fit for set number {i} is done\")\n",
    "    \n",
    "    return search_res\n"
   ]
  },
  {
   "cell_type": "markdown",
   "metadata": {},
   "source": [
    "# Logistic Regression"
   ]
  },
  {
   "cell_type": "markdown",
   "metadata": {},
   "source": [
    "### Look for best hyperparams (Random search method) for each set"
   ]
  },
  {
   "cell_type": "code",
   "execution_count": 62,
   "metadata": {},
   "outputs": [
    {
     "name": "stdout",
     "output_type": "stream",
     "text": [
      "Fit for set number 0 is done\n",
      "Fit for set number 1 is done\n",
      "Fit for set number 2 is done\n",
      "Fit for set number 3 is done\n"
     ]
    }
   ],
   "source": [
    "warnings.filterwarnings('ignore')\n",
    "\n",
    "lr = LogisticRegression(penalty='elasticnet', solver='saga', random_state=RANDOM_STATE, max_iter=1000)\n",
    "search_rand_lr = getRandomCVResults(lr, grid_log_reg, 5, -1)\n",
    "\n",
    "warnings.filterwarnings('default')"
   ]
  },
  {
   "cell_type": "code",
   "execution_count": 63,
   "metadata": {},
   "outputs": [],
   "source": [
    "res_lr = {\n",
    "    'hiperparametry': search_rand_lr[0].cv_results_['params'], \n",
    "    'wynik_zbior_1': search_rand_lr[0].cv_results_['mean_test_score'], \n",
    "    'wynik_zbior_2': search_rand_lr[1].cv_results_['mean_test_score'], \n",
    "    'wynik_zbior_3': search_rand_lr[2].cv_results_['mean_test_score'], \n",
    "    'wynik_zbior_4': search_rand_lr[3].cv_results_['mean_test_score']\n",
    "}\n",
    "\n",
    "results_lr = pd.DataFrame(res_lr)\n",
    "results_lr['model'] = 'LogisticRegression'"
   ]
  },
  {
   "cell_type": "markdown",
   "metadata": {},
   "source": [
    "# Decision Tree"
   ]
  },
  {
   "cell_type": "code",
   "execution_count": 64,
   "metadata": {},
   "outputs": [
    {
     "name": "stdout",
     "output_type": "stream",
     "text": [
      "Fit for set number 0 is done\n",
      "Fit for set number 1 is done\n",
      "Fit for set number 2 is done\n"
     ]
    },
    {
     "name": "stderr",
     "output_type": "stream",
     "text": [
      "C:\\Users\\macie\\AppData\\Roaming\\Python\\Python38\\site-packages\\sklearn\\model_selection\\_split.py:700: UserWarning: The least populated class in y has only 1 members, which is less than n_splits=5.\n",
      "  warnings.warn(\n"
     ]
    },
    {
     "name": "stdout",
     "output_type": "stream",
     "text": [
      "Fit for set number 3 is done\n"
     ]
    }
   ],
   "source": [
    "#warnings.filterwarnings('ignore')\n",
    "\n",
    "tree = DecisionTreeClassifier(random_state=RANDOM_STATE)\n",
    "search_rand_tree = getRandomCVResults(tree, grid_tree, 5, -1)\n",
    "\n",
    "#warnings.filterwarnings('default')"
   ]
  },
  {
   "cell_type": "code",
   "execution_count": 65,
   "metadata": {},
   "outputs": [],
   "source": [
    "res_tree = {\n",
    "    'hiperparametry': search_rand_tree[0].cv_results_['params'], \n",
    "    'wynik_zbior_1': search_rand_tree[0].cv_results_['mean_test_score'], \n",
    "    'wynik_zbior_2': search_rand_tree[1].cv_results_['mean_test_score'], \n",
    "    'wynik_zbior_3': search_rand_tree[2].cv_results_['mean_test_score'], \n",
    "    'wynik_zbior_4': search_rand_tree[3].cv_results_['mean_test_score']\n",
    "}\n",
    "\n",
    "results_tree = pd.DataFrame(res_tree)\n",
    "results_tree['model'] = 'DecisionTreeClassifier'"
   ]
  },
  {
   "cell_type": "markdown",
   "metadata": {},
   "source": [
    "# Random Forest"
   ]
  },
  {
   "cell_type": "code",
   "execution_count": 66,
   "metadata": {},
   "outputs": [
    {
     "name": "stdout",
     "output_type": "stream",
     "text": [
      "Fit for set number 0 is done\n",
      "Fit for set number 1 is done\n",
      "Fit for set number 2 is done\n"
     ]
    },
    {
     "name": "stderr",
     "output_type": "stream",
     "text": [
      "C:\\Users\\macie\\AppData\\Roaming\\Python\\Python38\\site-packages\\sklearn\\model_selection\\_split.py:700: UserWarning: The least populated class in y has only 1 members, which is less than n_splits=5.\n",
      "  warnings.warn(\n"
     ]
    },
    {
     "name": "stdout",
     "output_type": "stream",
     "text": [
      "Fit for set number 3 is done\n"
     ]
    }
   ],
   "source": [
    "#warnings.filterwarnings('ignore')\n",
    "\n",
    "forest = RandomForestClassifier(random_state=RANDOM_STATE)\n",
    "search_rand_forest = getRandomCVResults(forest, grid_forest, 5, -1)\n",
    "\n",
    "#warnings.filterwarnings('default')"
   ]
  },
  {
   "cell_type": "code",
   "execution_count": 67,
   "metadata": {},
   "outputs": [],
   "source": [
    "res_forest = {\n",
    "    'hiperparametry': search_rand_forest[0].cv_results_['params'], \n",
    "    'wynik_zbior_1': search_rand_forest[0].cv_results_['mean_test_score'], \n",
    "    'wynik_zbior_2': search_rand_forest[1].cv_results_['mean_test_score'], \n",
    "    'wynik_zbior_3': search_rand_forest[2].cv_results_['mean_test_score'], \n",
    "    'wynik_zbior_4': search_rand_forest[3].cv_results_['mean_test_score']\n",
    "}\n",
    "\n",
    "results_forest = pd.DataFrame(res_forest)\n",
    "results_forest['model'] = 'RandomForestClassifier'"
   ]
  },
  {
   "cell_type": "code",
   "execution_count": 68,
   "metadata": {},
   "outputs": [
    {
     "data": {
      "text/html": [
       "<div>\n",
       "<style scoped>\n",
       "    .dataframe tbody tr th:only-of-type {\n",
       "        vertical-align: middle;\n",
       "    }\n",
       "\n",
       "    .dataframe tbody tr th {\n",
       "        vertical-align: top;\n",
       "    }\n",
       "\n",
       "    .dataframe thead th {\n",
       "        text-align: right;\n",
       "    }\n",
       "</style>\n",
       "<table border=\"1\" class=\"dataframe\">\n",
       "  <thead>\n",
       "    <tr style=\"text-align: right;\">\n",
       "      <th></th>\n",
       "      <th>hiperparametry</th>\n",
       "      <th>wynik_zbior_1</th>\n",
       "      <th>wynik_zbior_2</th>\n",
       "      <th>wynik_zbior_3</th>\n",
       "      <th>wynik_zbior_4</th>\n",
       "      <th>model</th>\n",
       "    </tr>\n",
       "  </thead>\n",
       "  <tbody>\n",
       "    <tr>\n",
       "      <th>0</th>\n",
       "      <td>{'classifier__min_samples_split': 8, 'classifi...</td>\n",
       "      <td>0.700</td>\n",
       "      <td>0.706514</td>\n",
       "      <td>0.884760</td>\n",
       "      <td>0.164951</td>\n",
       "      <td>DecisionTreeClassifier</td>\n",
       "    </tr>\n",
       "    <tr>\n",
       "      <th>1</th>\n",
       "      <td>{'classifier__min_samples_split': 7, 'classifi...</td>\n",
       "      <td>0.715</td>\n",
       "      <td>0.787748</td>\n",
       "      <td>0.889183</td>\n",
       "      <td>0.250178</td>\n",
       "      <td>DecisionTreeClassifier</td>\n",
       "    </tr>\n",
       "    <tr>\n",
       "      <th>2</th>\n",
       "      <td>{'classifier__min_samples_split': 8, 'classifi...</td>\n",
       "      <td>0.727</td>\n",
       "      <td>0.820319</td>\n",
       "      <td>0.898695</td>\n",
       "      <td>0.259281</td>\n",
       "      <td>DecisionTreeClassifier</td>\n",
       "    </tr>\n",
       "    <tr>\n",
       "      <th>3</th>\n",
       "      <td>{'classifier__min_samples_split': 6, 'classifi...</td>\n",
       "      <td>0.700</td>\n",
       "      <td>0.706514</td>\n",
       "      <td>0.884760</td>\n",
       "      <td>0.164951</td>\n",
       "      <td>DecisionTreeClassifier</td>\n",
       "    </tr>\n",
       "    <tr>\n",
       "      <th>4</th>\n",
       "      <td>{'classifier__min_samples_split': 4, 'classifi...</td>\n",
       "      <td>0.700</td>\n",
       "      <td>0.706514</td>\n",
       "      <td>0.884760</td>\n",
       "      <td>0.164951</td>\n",
       "      <td>DecisionTreeClassifier</td>\n",
       "    </tr>\n",
       "  </tbody>\n",
       "</table>\n",
       "</div>"
      ],
      "text/plain": [
       "                                      hiperparametry  wynik_zbior_1  \\\n",
       "0  {'classifier__min_samples_split': 8, 'classifi...          0.700   \n",
       "1  {'classifier__min_samples_split': 7, 'classifi...          0.715   \n",
       "2  {'classifier__min_samples_split': 8, 'classifi...          0.727   \n",
       "3  {'classifier__min_samples_split': 6, 'classifi...          0.700   \n",
       "4  {'classifier__min_samples_split': 4, 'classifi...          0.700   \n",
       "\n",
       "   wynik_zbior_2  wynik_zbior_3  wynik_zbior_4                   model  \n",
       "0       0.706514       0.884760       0.164951  DecisionTreeClassifier  \n",
       "1       0.787748       0.889183       0.250178  DecisionTreeClassifier  \n",
       "2       0.820319       0.898695       0.259281  DecisionTreeClassifier  \n",
       "3       0.706514       0.884760       0.164951  DecisionTreeClassifier  \n",
       "4       0.706514       0.884760       0.164951  DecisionTreeClassifier  "
      ]
     },
     "execution_count": 68,
     "metadata": {},
     "output_type": "execute_result"
    }
   ],
   "source": [
    "results_tree"
   ]
  },
  {
   "cell_type": "markdown",
   "metadata": {},
   "source": [
    "# Merging results"
   ]
  },
  {
   "cell_type": "code",
   "execution_count": 69,
   "metadata": {},
   "outputs": [],
   "source": [
    "frames = [results_lr, results_tree, results_forest]\n",
    "\n",
    "results = pd.concat(frames)"
   ]
  },
  {
   "cell_type": "code",
   "execution_count": 70,
   "metadata": {},
   "outputs": [],
   "source": [
    "results['mean_result'] = (results['wynik_zbior_1'] + results['wynik_zbior_2'] + results['wynik_zbior_3'] + results['wynik_zbior_4']) / 4"
   ]
  },
  {
   "cell_type": "code",
   "execution_count": 71,
   "metadata": {},
   "outputs": [
    {
     "data": {
      "text/html": [
       "<div>\n",
       "<style scoped>\n",
       "    .dataframe tbody tr th:only-of-type {\n",
       "        vertical-align: middle;\n",
       "    }\n",
       "\n",
       "    .dataframe tbody tr th {\n",
       "        vertical-align: top;\n",
       "    }\n",
       "\n",
       "    .dataframe thead th {\n",
       "        text-align: right;\n",
       "    }\n",
       "</style>\n",
       "<table border=\"1\" class=\"dataframe\">\n",
       "  <thead>\n",
       "    <tr style=\"text-align: right;\">\n",
       "      <th></th>\n",
       "      <th>hiperparametry</th>\n",
       "      <th>wynik_zbior_1</th>\n",
       "      <th>wynik_zbior_2</th>\n",
       "      <th>wynik_zbior_3</th>\n",
       "      <th>wynik_zbior_4</th>\n",
       "      <th>model</th>\n",
       "      <th>mean_result</th>\n",
       "    </tr>\n",
       "  </thead>\n",
       "  <tbody>\n",
       "    <tr>\n",
       "      <th>0</th>\n",
       "      <td>{'classifier__l1_ratio': 0.9387755102040816, '...</td>\n",
       "      <td>0.700</td>\n",
       "      <td>0.749817</td>\n",
       "      <td>0.884539</td>\n",
       "      <td>0.266220</td>\n",
       "      <td>LogisticRegression</td>\n",
       "      <td>0.650144</td>\n",
       "    </tr>\n",
       "    <tr>\n",
       "      <th>1</th>\n",
       "      <td>{'classifier__l1_ratio': 0.44897959183673464, ...</td>\n",
       "      <td>0.700</td>\n",
       "      <td>0.749632</td>\n",
       "      <td>0.884539</td>\n",
       "      <td>0.254490</td>\n",
       "      <td>LogisticRegression</td>\n",
       "      <td>0.647165</td>\n",
       "    </tr>\n",
       "    <tr>\n",
       "      <th>2</th>\n",
       "      <td>{'classifier__l1_ratio': 0.32653061224489793, ...</td>\n",
       "      <td>0.700</td>\n",
       "      <td>0.749817</td>\n",
       "      <td>0.884539</td>\n",
       "      <td>0.272687</td>\n",
       "      <td>LogisticRegression</td>\n",
       "      <td>0.651761</td>\n",
       "    </tr>\n",
       "    <tr>\n",
       "      <th>3</th>\n",
       "      <td>{'classifier__l1_ratio': 0.08163265306122448, ...</td>\n",
       "      <td>0.700</td>\n",
       "      <td>0.749817</td>\n",
       "      <td>0.884539</td>\n",
       "      <td>0.275080</td>\n",
       "      <td>LogisticRegression</td>\n",
       "      <td>0.652359</td>\n",
       "    </tr>\n",
       "    <tr>\n",
       "      <th>4</th>\n",
       "      <td>{'classifier__l1_ratio': 0.9591836734693877, '...</td>\n",
       "      <td>0.700</td>\n",
       "      <td>0.749262</td>\n",
       "      <td>0.884539</td>\n",
       "      <td>0.260475</td>\n",
       "      <td>LogisticRegression</td>\n",
       "      <td>0.648569</td>\n",
       "    </tr>\n",
       "    <tr>\n",
       "      <th>0</th>\n",
       "      <td>{'classifier__min_samples_split': 8, 'classifi...</td>\n",
       "      <td>0.700</td>\n",
       "      <td>0.706514</td>\n",
       "      <td>0.884760</td>\n",
       "      <td>0.164951</td>\n",
       "      <td>DecisionTreeClassifier</td>\n",
       "      <td>0.614056</td>\n",
       "    </tr>\n",
       "    <tr>\n",
       "      <th>1</th>\n",
       "      <td>{'classifier__min_samples_split': 7, 'classifi...</td>\n",
       "      <td>0.715</td>\n",
       "      <td>0.787748</td>\n",
       "      <td>0.889183</td>\n",
       "      <td>0.250178</td>\n",
       "      <td>DecisionTreeClassifier</td>\n",
       "      <td>0.660527</td>\n",
       "    </tr>\n",
       "    <tr>\n",
       "      <th>2</th>\n",
       "      <td>{'classifier__min_samples_split': 8, 'classifi...</td>\n",
       "      <td>0.727</td>\n",
       "      <td>0.820319</td>\n",
       "      <td>0.898695</td>\n",
       "      <td>0.259281</td>\n",
       "      <td>DecisionTreeClassifier</td>\n",
       "      <td>0.676324</td>\n",
       "    </tr>\n",
       "    <tr>\n",
       "      <th>3</th>\n",
       "      <td>{'classifier__min_samples_split': 6, 'classifi...</td>\n",
       "      <td>0.700</td>\n",
       "      <td>0.706514</td>\n",
       "      <td>0.884760</td>\n",
       "      <td>0.164951</td>\n",
       "      <td>DecisionTreeClassifier</td>\n",
       "      <td>0.614056</td>\n",
       "    </tr>\n",
       "    <tr>\n",
       "      <th>4</th>\n",
       "      <td>{'classifier__min_samples_split': 4, 'classifi...</td>\n",
       "      <td>0.700</td>\n",
       "      <td>0.706514</td>\n",
       "      <td>0.884760</td>\n",
       "      <td>0.164951</td>\n",
       "      <td>DecisionTreeClassifier</td>\n",
       "      <td>0.614056</td>\n",
       "    </tr>\n",
       "    <tr>\n",
       "      <th>0</th>\n",
       "      <td>{'classifier__warm_start': True, 'classifier__...</td>\n",
       "      <td>0.700</td>\n",
       "      <td>0.706514</td>\n",
       "      <td>0.884760</td>\n",
       "      <td>0.164951</td>\n",
       "      <td>RandomForestClassifier</td>\n",
       "      <td>0.614056</td>\n",
       "    </tr>\n",
       "    <tr>\n",
       "      <th>1</th>\n",
       "      <td>{'classifier__warm_start': False, 'classifier_...</td>\n",
       "      <td>0.731</td>\n",
       "      <td>0.835862</td>\n",
       "      <td>0.887636</td>\n",
       "      <td>0.272204</td>\n",
       "      <td>RandomForestClassifier</td>\n",
       "      <td>0.681675</td>\n",
       "    </tr>\n",
       "    <tr>\n",
       "      <th>2</th>\n",
       "      <td>{'classifier__warm_start': True, 'classifier__...</td>\n",
       "      <td>0.700</td>\n",
       "      <td>0.777575</td>\n",
       "      <td>0.884760</td>\n",
       "      <td>0.237727</td>\n",
       "      <td>RandomForestClassifier</td>\n",
       "      <td>0.650015</td>\n",
       "    </tr>\n",
       "    <tr>\n",
       "      <th>3</th>\n",
       "      <td>{'classifier__warm_start': True, 'classifier__...</td>\n",
       "      <td>0.700</td>\n",
       "      <td>0.706514</td>\n",
       "      <td>0.884760</td>\n",
       "      <td>0.164951</td>\n",
       "      <td>RandomForestClassifier</td>\n",
       "      <td>0.614056</td>\n",
       "    </tr>\n",
       "    <tr>\n",
       "      <th>4</th>\n",
       "      <td>{'classifier__warm_start': True, 'classifier__...</td>\n",
       "      <td>0.700</td>\n",
       "      <td>0.706514</td>\n",
       "      <td>0.884760</td>\n",
       "      <td>0.164951</td>\n",
       "      <td>RandomForestClassifier</td>\n",
       "      <td>0.614056</td>\n",
       "    </tr>\n",
       "  </tbody>\n",
       "</table>\n",
       "</div>"
      ],
      "text/plain": [
       "                                      hiperparametry  wynik_zbior_1  \\\n",
       "0  {'classifier__l1_ratio': 0.9387755102040816, '...          0.700   \n",
       "1  {'classifier__l1_ratio': 0.44897959183673464, ...          0.700   \n",
       "2  {'classifier__l1_ratio': 0.32653061224489793, ...          0.700   \n",
       "3  {'classifier__l1_ratio': 0.08163265306122448, ...          0.700   \n",
       "4  {'classifier__l1_ratio': 0.9591836734693877, '...          0.700   \n",
       "0  {'classifier__min_samples_split': 8, 'classifi...          0.700   \n",
       "1  {'classifier__min_samples_split': 7, 'classifi...          0.715   \n",
       "2  {'classifier__min_samples_split': 8, 'classifi...          0.727   \n",
       "3  {'classifier__min_samples_split': 6, 'classifi...          0.700   \n",
       "4  {'classifier__min_samples_split': 4, 'classifi...          0.700   \n",
       "0  {'classifier__warm_start': True, 'classifier__...          0.700   \n",
       "1  {'classifier__warm_start': False, 'classifier_...          0.731   \n",
       "2  {'classifier__warm_start': True, 'classifier__...          0.700   \n",
       "3  {'classifier__warm_start': True, 'classifier__...          0.700   \n",
       "4  {'classifier__warm_start': True, 'classifier__...          0.700   \n",
       "\n",
       "   wynik_zbior_2  wynik_zbior_3  wynik_zbior_4                   model  \\\n",
       "0       0.749817       0.884539       0.266220      LogisticRegression   \n",
       "1       0.749632       0.884539       0.254490      LogisticRegression   \n",
       "2       0.749817       0.884539       0.272687      LogisticRegression   \n",
       "3       0.749817       0.884539       0.275080      LogisticRegression   \n",
       "4       0.749262       0.884539       0.260475      LogisticRegression   \n",
       "0       0.706514       0.884760       0.164951  DecisionTreeClassifier   \n",
       "1       0.787748       0.889183       0.250178  DecisionTreeClassifier   \n",
       "2       0.820319       0.898695       0.259281  DecisionTreeClassifier   \n",
       "3       0.706514       0.884760       0.164951  DecisionTreeClassifier   \n",
       "4       0.706514       0.884760       0.164951  DecisionTreeClassifier   \n",
       "0       0.706514       0.884760       0.164951  RandomForestClassifier   \n",
       "1       0.835862       0.887636       0.272204  RandomForestClassifier   \n",
       "2       0.777575       0.884760       0.237727  RandomForestClassifier   \n",
       "3       0.706514       0.884760       0.164951  RandomForestClassifier   \n",
       "4       0.706514       0.884760       0.164951  RandomForestClassifier   \n",
       "\n",
       "   mean_result  \n",
       "0     0.650144  \n",
       "1     0.647165  \n",
       "2     0.651761  \n",
       "3     0.652359  \n",
       "4     0.648569  \n",
       "0     0.614056  \n",
       "1     0.660527  \n",
       "2     0.676324  \n",
       "3     0.614056  \n",
       "4     0.614056  \n",
       "0     0.614056  \n",
       "1     0.681675  \n",
       "2     0.650015  \n",
       "3     0.614056  \n",
       "4     0.614056  "
      ]
     },
     "execution_count": 71,
     "metadata": {},
     "output_type": "execute_result"
    }
   ],
   "source": [
    "results"
   ]
  },
  {
   "cell_type": "code",
   "execution_count": 72,
   "metadata": {},
   "outputs": [
    {
     "data": {
      "text/html": [
       "<div>\n",
       "<style scoped>\n",
       "    .dataframe tbody tr th:only-of-type {\n",
       "        vertical-align: middle;\n",
       "    }\n",
       "\n",
       "    .dataframe tbody tr th {\n",
       "        vertical-align: top;\n",
       "    }\n",
       "\n",
       "    .dataframe thead th {\n",
       "        text-align: right;\n",
       "    }\n",
       "</style>\n",
       "<table border=\"1\" class=\"dataframe\">\n",
       "  <thead>\n",
       "    <tr style=\"text-align: right;\">\n",
       "      <th></th>\n",
       "      <th>hiperparametry</th>\n",
       "      <th>wynik_zbior_1</th>\n",
       "      <th>wynik_zbior_2</th>\n",
       "      <th>wynik_zbior_3</th>\n",
       "      <th>wynik_zbior_4</th>\n",
       "      <th>model</th>\n",
       "      <th>mean_result</th>\n",
       "    </tr>\n",
       "  </thead>\n",
       "  <tbody>\n",
       "    <tr>\n",
       "      <th>1</th>\n",
       "      <td>{'classifier__warm_start': False, 'classifier_...</td>\n",
       "      <td>0.731</td>\n",
       "      <td>0.835862</td>\n",
       "      <td>0.887636</td>\n",
       "      <td>0.272204</td>\n",
       "      <td>RandomForestClassifier</td>\n",
       "      <td>0.681675</td>\n",
       "    </tr>\n",
       "  </tbody>\n",
       "</table>\n",
       "</div>"
      ],
      "text/plain": [
       "                                      hiperparametry  wynik_zbior_1  \\\n",
       "1  {'classifier__warm_start': False, 'classifier_...          0.731   \n",
       "\n",
       "   wynik_zbior_2  wynik_zbior_3  wynik_zbior_4                   model  \\\n",
       "1       0.835862       0.887636       0.272204  RandomForestClassifier   \n",
       "\n",
       "   mean_result  \n",
       "1     0.681675  "
      ]
     },
     "execution_count": 72,
     "metadata": {},
     "output_type": "execute_result"
    }
   ],
   "source": [
    "maxi = np.max(results['mean_result'])\n",
    "results[results['mean_result'] == maxi]"
   ]
  },
  {
   "cell_type": "markdown",
   "metadata": {},
   "source": [
    "# BAYES !!!!!!!!!!!!!!!!!!!!!!!!!!"
   ]
  },
  {
   "cell_type": "code",
   "execution_count": 73,
   "metadata": {},
   "outputs": [],
   "source": [
    "bayes_diff_start_points_lr = []\n",
    "bayes_diff_start_points_tree = []\n",
    "bayes_diff_start_points_forest = []\n",
    "\n",
    "NUMBER_OF_STARTING_POINTS = 5"
   ]
  },
  {
   "cell_type": "code",
   "execution_count": 74,
   "metadata": {},
   "outputs": [
    {
     "name": "stdout",
     "output_type": "stream",
     "text": [
      "Fit for set number 0 is done\n",
      "Fit for set number 1 is done\n",
      "Fit for set number 2 is done\n",
      "Fit for set number 3 is done\n",
      "Fit for set number 0 is done\n",
      "Fit for set number 1 is done\n",
      "Fit for set number 2 is done\n",
      "Fit for set number 3 is done\n",
      "Fit for set number 0 is done\n",
      "Fit for set number 1 is done\n",
      "Fit for set number 2 is done\n",
      "Fit for set number 3 is done\n",
      "Fit for set number 0 is done\n",
      "Fit for set number 1 is done\n",
      "Fit for set number 2 is done\n",
      "Fit for set number 3 is done\n",
      "Fit for set number 0 is done\n",
      "Fit for set number 1 is done\n",
      "Fit for set number 2 is done\n",
      "Fit for set number 3 is done\n"
     ]
    }
   ],
   "source": [
    "warnings.filterwarnings('ignore')\n",
    "\n",
    "for i in range(NUMBER_OF_STARTING_POINTS):\n",
    "    lr = LogisticRegression(penalty='elasticnet', solver='saga', random_state=RANDOM_STATE, max_iter=1000)\n",
    "    # give different random state each time to generate different start hyperParams to Bayes\n",
    "    search_bayes_lr = getBayesCVResults(lr, grid_log_reg, n_iter=5, n_jobs=-1, random_state = (i+1)*100)\n",
    "    bayes_diff_start_points_lr.append(search_bayes_lr)\n",
    "\n",
    "warnings.filterwarnings('default')"
   ]
  },
  {
   "cell_type": "code",
   "execution_count": 75,
   "metadata": {},
   "outputs": [
    {
     "name": "stdout",
     "output_type": "stream",
     "text": [
      "Fit for set number 0 is done\n",
      "Fit for set number 1 is done\n",
      "Fit for set number 2 is done\n"
     ]
    },
    {
     "name": "stderr",
     "output_type": "stream",
     "text": [
      "C:\\Users\\macie\\AppData\\Roaming\\Python\\Python38\\site-packages\\sklearn\\model_selection\\_split.py:700: UserWarning: The least populated class in y has only 1 members, which is less than n_splits=5.\n",
      "  warnings.warn(\n",
      "C:\\Users\\macie\\AppData\\Roaming\\Python\\Python38\\site-packages\\sklearn\\model_selection\\_split.py:700: UserWarning: The least populated class in y has only 1 members, which is less than n_splits=5.\n",
      "  warnings.warn(\n",
      "C:\\Users\\macie\\AppData\\Roaming\\Python\\Python38\\site-packages\\sklearn\\model_selection\\_split.py:700: UserWarning: The least populated class in y has only 1 members, which is less than n_splits=5.\n",
      "  warnings.warn(\n",
      "C:\\Users\\macie\\AppData\\Roaming\\Python\\Python38\\site-packages\\sklearn\\model_selection\\_split.py:700: UserWarning: The least populated class in y has only 1 members, which is less than n_splits=5.\n",
      "  warnings.warn(\n",
      "C:\\Users\\macie\\AppData\\Roaming\\Python\\Python38\\site-packages\\sklearn\\model_selection\\_split.py:700: UserWarning: The least populated class in y has only 1 members, which is less than n_splits=5.\n",
      "  warnings.warn(\n"
     ]
    },
    {
     "name": "stdout",
     "output_type": "stream",
     "text": [
      "Fit for set number 3 is done\n",
      "Fit for set number 0 is done\n",
      "Fit for set number 1 is done\n",
      "Fit for set number 2 is done\n"
     ]
    },
    {
     "name": "stderr",
     "output_type": "stream",
     "text": [
      "C:\\Users\\macie\\AppData\\Roaming\\Python\\Python38\\site-packages\\sklearn\\model_selection\\_split.py:700: UserWarning: The least populated class in y has only 1 members, which is less than n_splits=5.\n",
      "  warnings.warn(\n",
      "C:\\Users\\macie\\AppData\\Roaming\\Python\\Python38\\site-packages\\sklearn\\model_selection\\_split.py:700: UserWarning: The least populated class in y has only 1 members, which is less than n_splits=5.\n",
      "  warnings.warn(\n",
      "C:\\Users\\macie\\AppData\\Roaming\\Python\\Python38\\site-packages\\sklearn\\model_selection\\_split.py:700: UserWarning: The least populated class in y has only 1 members, which is less than n_splits=5.\n",
      "  warnings.warn(\n",
      "C:\\Users\\macie\\AppData\\Roaming\\Python\\Python38\\site-packages\\sklearn\\model_selection\\_split.py:700: UserWarning: The least populated class in y has only 1 members, which is less than n_splits=5.\n",
      "  warnings.warn(\n",
      "C:\\Users\\macie\\AppData\\Roaming\\Python\\Python38\\site-packages\\sklearn\\model_selection\\_split.py:700: UserWarning: The least populated class in y has only 1 members, which is less than n_splits=5.\n",
      "  warnings.warn(\n"
     ]
    },
    {
     "name": "stdout",
     "output_type": "stream",
     "text": [
      "Fit for set number 3 is done\n",
      "Fit for set number 0 is done\n",
      "Fit for set number 1 is done\n",
      "Fit for set number 2 is done\n"
     ]
    },
    {
     "name": "stderr",
     "output_type": "stream",
     "text": [
      "C:\\Users\\macie\\AppData\\Roaming\\Python\\Python38\\site-packages\\sklearn\\model_selection\\_split.py:700: UserWarning: The least populated class in y has only 1 members, which is less than n_splits=5.\n",
      "  warnings.warn(\n",
      "C:\\Users\\macie\\AppData\\Roaming\\Python\\Python38\\site-packages\\sklearn\\model_selection\\_split.py:700: UserWarning: The least populated class in y has only 1 members, which is less than n_splits=5.\n",
      "  warnings.warn(\n",
      "C:\\Users\\macie\\AppData\\Roaming\\Python\\Python38\\site-packages\\sklearn\\model_selection\\_split.py:700: UserWarning: The least populated class in y has only 1 members, which is less than n_splits=5.\n",
      "  warnings.warn(\n",
      "C:\\Users\\macie\\AppData\\Roaming\\Python\\Python38\\site-packages\\sklearn\\model_selection\\_split.py:700: UserWarning: The least populated class in y has only 1 members, which is less than n_splits=5.\n",
      "  warnings.warn(\n",
      "C:\\Users\\macie\\AppData\\Roaming\\Python\\Python38\\site-packages\\sklearn\\model_selection\\_split.py:700: UserWarning: The least populated class in y has only 1 members, which is less than n_splits=5.\n",
      "  warnings.warn(\n"
     ]
    },
    {
     "name": "stdout",
     "output_type": "stream",
     "text": [
      "Fit for set number 3 is done\n",
      "Fit for set number 0 is done\n",
      "Fit for set number 1 is done\n",
      "Fit for set number 2 is done\n"
     ]
    },
    {
     "name": "stderr",
     "output_type": "stream",
     "text": [
      "C:\\Users\\macie\\AppData\\Roaming\\Python\\Python38\\site-packages\\sklearn\\model_selection\\_split.py:700: UserWarning: The least populated class in y has only 1 members, which is less than n_splits=5.\n",
      "  warnings.warn(\n",
      "C:\\Users\\macie\\AppData\\Roaming\\Python\\Python38\\site-packages\\sklearn\\model_selection\\_split.py:700: UserWarning: The least populated class in y has only 1 members, which is less than n_splits=5.\n",
      "  warnings.warn(\n",
      "C:\\Users\\macie\\AppData\\Roaming\\Python\\Python38\\site-packages\\sklearn\\model_selection\\_split.py:700: UserWarning: The least populated class in y has only 1 members, which is less than n_splits=5.\n",
      "  warnings.warn(\n",
      "C:\\Users\\macie\\AppData\\Roaming\\Python\\Python38\\site-packages\\sklearn\\model_selection\\_split.py:700: UserWarning: The least populated class in y has only 1 members, which is less than n_splits=5.\n",
      "  warnings.warn(\n",
      "C:\\Users\\macie\\AppData\\Roaming\\Python\\Python38\\site-packages\\sklearn\\model_selection\\_split.py:700: UserWarning: The least populated class in y has only 1 members, which is less than n_splits=5.\n",
      "  warnings.warn(\n"
     ]
    },
    {
     "name": "stdout",
     "output_type": "stream",
     "text": [
      "Fit for set number 3 is done\n",
      "Fit for set number 0 is done\n",
      "Fit for set number 1 is done\n",
      "Fit for set number 2 is done\n"
     ]
    },
    {
     "name": "stderr",
     "output_type": "stream",
     "text": [
      "C:\\Users\\macie\\AppData\\Roaming\\Python\\Python38\\site-packages\\sklearn\\model_selection\\_split.py:700: UserWarning: The least populated class in y has only 1 members, which is less than n_splits=5.\n",
      "  warnings.warn(\n",
      "C:\\Users\\macie\\AppData\\Roaming\\Python\\Python38\\site-packages\\sklearn\\model_selection\\_split.py:700: UserWarning: The least populated class in y has only 1 members, which is less than n_splits=5.\n",
      "  warnings.warn(\n",
      "C:\\Users\\macie\\AppData\\Roaming\\Python\\Python38\\site-packages\\sklearn\\model_selection\\_split.py:700: UserWarning: The least populated class in y has only 1 members, which is less than n_splits=5.\n",
      "  warnings.warn(\n",
      "C:\\Users\\macie\\AppData\\Roaming\\Python\\Python38\\site-packages\\sklearn\\model_selection\\_split.py:700: UserWarning: The least populated class in y has only 1 members, which is less than n_splits=5.\n",
      "  warnings.warn(\n"
     ]
    },
    {
     "name": "stdout",
     "output_type": "stream",
     "text": [
      "Fit for set number 3 is done\n"
     ]
    },
    {
     "name": "stderr",
     "output_type": "stream",
     "text": [
      "C:\\Users\\macie\\AppData\\Roaming\\Python\\Python38\\site-packages\\sklearn\\model_selection\\_split.py:700: UserWarning: The least populated class in y has only 1 members, which is less than n_splits=5.\n",
      "  warnings.warn(\n"
     ]
    }
   ],
   "source": [
    "for i in range(NUMBER_OF_STARTING_POINTS):\n",
    "    tree = DecisionTreeClassifier(random_state=RANDOM_STATE)\n",
    "    search_bayes_tree = getBayesCVResults(tree, grid_tree, n_iter=5, n_jobs=-1, random_state=(i+1)*100)\n",
    "    bayes_diff_start_points_tree.append(search_bayes_tree)"
   ]
  },
  {
   "cell_type": "code",
   "execution_count": 76,
   "metadata": {},
   "outputs": [
    {
     "name": "stdout",
     "output_type": "stream",
     "text": [
      "Fit for set number 0 is done\n",
      "Fit for set number 1 is done\n",
      "Fit for set number 2 is done\n"
     ]
    },
    {
     "name": "stderr",
     "output_type": "stream",
     "text": [
      "C:\\Users\\macie\\AppData\\Roaming\\Python\\Python38\\site-packages\\sklearn\\model_selection\\_split.py:700: UserWarning: The least populated class in y has only 1 members, which is less than n_splits=5.\n",
      "  warnings.warn(\n",
      "C:\\Users\\macie\\AppData\\Roaming\\Python\\Python38\\site-packages\\sklearn\\model_selection\\_split.py:700: UserWarning: The least populated class in y has only 1 members, which is less than n_splits=5.\n",
      "  warnings.warn(\n",
      "C:\\Users\\macie\\AppData\\Roaming\\Python\\Python38\\site-packages\\sklearn\\model_selection\\_split.py:700: UserWarning: The least populated class in y has only 1 members, which is less than n_splits=5.\n",
      "  warnings.warn(\n",
      "C:\\Users\\macie\\AppData\\Roaming\\Python\\Python38\\site-packages\\sklearn\\model_selection\\_split.py:700: UserWarning: The least populated class in y has only 1 members, which is less than n_splits=5.\n",
      "  warnings.warn(\n",
      "C:\\Users\\macie\\AppData\\Roaming\\Python\\Python38\\site-packages\\sklearn\\model_selection\\_split.py:700: UserWarning: The least populated class in y has only 1 members, which is less than n_splits=5.\n",
      "  warnings.warn(\n"
     ]
    },
    {
     "name": "stdout",
     "output_type": "stream",
     "text": [
      "Fit for set number 3 is done\n",
      "Fit for set number 0 is done\n",
      "Fit for set number 1 is done\n",
      "Fit for set number 2 is done\n"
     ]
    },
    {
     "name": "stderr",
     "output_type": "stream",
     "text": [
      "C:\\Users\\macie\\AppData\\Roaming\\Python\\Python38\\site-packages\\sklearn\\model_selection\\_split.py:700: UserWarning: The least populated class in y has only 1 members, which is less than n_splits=5.\n",
      "  warnings.warn(\n",
      "C:\\Users\\macie\\AppData\\Roaming\\Python\\Python38\\site-packages\\sklearn\\model_selection\\_split.py:700: UserWarning: The least populated class in y has only 1 members, which is less than n_splits=5.\n",
      "  warnings.warn(\n",
      "C:\\Users\\macie\\AppData\\Roaming\\Python\\Python38\\site-packages\\sklearn\\model_selection\\_split.py:700: UserWarning: The least populated class in y has only 1 members, which is less than n_splits=5.\n",
      "  warnings.warn(\n",
      "C:\\Users\\macie\\AppData\\Roaming\\Python\\Python38\\site-packages\\sklearn\\model_selection\\_split.py:700: UserWarning: The least populated class in y has only 1 members, which is less than n_splits=5.\n",
      "  warnings.warn(\n",
      "C:\\Users\\macie\\AppData\\Roaming\\Python\\Python38\\site-packages\\sklearn\\model_selection\\_split.py:700: UserWarning: The least populated class in y has only 1 members, which is less than n_splits=5.\n",
      "  warnings.warn(\n"
     ]
    },
    {
     "name": "stdout",
     "output_type": "stream",
     "text": [
      "Fit for set number 3 is done\n",
      "Fit for set number 0 is done\n",
      "Fit for set number 1 is done\n",
      "Fit for set number 2 is done\n"
     ]
    },
    {
     "name": "stderr",
     "output_type": "stream",
     "text": [
      "C:\\Users\\macie\\AppData\\Roaming\\Python\\Python38\\site-packages\\sklearn\\model_selection\\_split.py:700: UserWarning: The least populated class in y has only 1 members, which is less than n_splits=5.\n",
      "  warnings.warn(\n",
      "C:\\Users\\macie\\AppData\\Roaming\\Python\\Python38\\site-packages\\sklearn\\model_selection\\_split.py:700: UserWarning: The least populated class in y has only 1 members, which is less than n_splits=5.\n",
      "  warnings.warn(\n",
      "C:\\Users\\macie\\AppData\\Roaming\\Python\\Python38\\site-packages\\sklearn\\model_selection\\_split.py:700: UserWarning: The least populated class in y has only 1 members, which is less than n_splits=5.\n",
      "  warnings.warn(\n",
      "C:\\Users\\macie\\AppData\\Roaming\\Python\\Python38\\site-packages\\sklearn\\model_selection\\_split.py:700: UserWarning: The least populated class in y has only 1 members, which is less than n_splits=5.\n",
      "  warnings.warn(\n",
      "C:\\Users\\macie\\AppData\\Roaming\\Python\\Python38\\site-packages\\sklearn\\model_selection\\_split.py:700: UserWarning: The least populated class in y has only 1 members, which is less than n_splits=5.\n",
      "  warnings.warn(\n"
     ]
    },
    {
     "name": "stdout",
     "output_type": "stream",
     "text": [
      "Fit for set number 3 is done\n",
      "Fit for set number 0 is done\n",
      "Fit for set number 1 is done\n",
      "Fit for set number 2 is done\n"
     ]
    },
    {
     "name": "stderr",
     "output_type": "stream",
     "text": [
      "C:\\Users\\macie\\AppData\\Roaming\\Python\\Python38\\site-packages\\sklearn\\model_selection\\_split.py:700: UserWarning: The least populated class in y has only 1 members, which is less than n_splits=5.\n",
      "  warnings.warn(\n",
      "C:\\Users\\macie\\AppData\\Roaming\\Python\\Python38\\site-packages\\sklearn\\model_selection\\_split.py:700: UserWarning: The least populated class in y has only 1 members, which is less than n_splits=5.\n",
      "  warnings.warn(\n",
      "C:\\Users\\macie\\AppData\\Roaming\\Python\\Python38\\site-packages\\sklearn\\model_selection\\_split.py:700: UserWarning: The least populated class in y has only 1 members, which is less than n_splits=5.\n",
      "  warnings.warn(\n",
      "C:\\Users\\macie\\AppData\\Roaming\\Python\\Python38\\site-packages\\sklearn\\model_selection\\_split.py:700: UserWarning: The least populated class in y has only 1 members, which is less than n_splits=5.\n",
      "  warnings.warn(\n",
      "C:\\Users\\macie\\AppData\\Roaming\\Python\\Python38\\site-packages\\sklearn\\model_selection\\_split.py:700: UserWarning: The least populated class in y has only 1 members, which is less than n_splits=5.\n",
      "  warnings.warn(\n"
     ]
    },
    {
     "name": "stdout",
     "output_type": "stream",
     "text": [
      "Fit for set number 3 is done\n",
      "Fit for set number 0 is done\n",
      "Fit for set number 1 is done\n",
      "Fit for set number 2 is done\n"
     ]
    },
    {
     "name": "stderr",
     "output_type": "stream",
     "text": [
      "C:\\Users\\macie\\AppData\\Roaming\\Python\\Python38\\site-packages\\sklearn\\model_selection\\_split.py:700: UserWarning: The least populated class in y has only 1 members, which is less than n_splits=5.\n",
      "  warnings.warn(\n",
      "C:\\Users\\macie\\AppData\\Roaming\\Python\\Python38\\site-packages\\sklearn\\model_selection\\_split.py:700: UserWarning: The least populated class in y has only 1 members, which is less than n_splits=5.\n",
      "  warnings.warn(\n",
      "C:\\Users\\macie\\AppData\\Roaming\\Python\\Python38\\site-packages\\sklearn\\model_selection\\_split.py:700: UserWarning: The least populated class in y has only 1 members, which is less than n_splits=5.\n",
      "  warnings.warn(\n",
      "C:\\Users\\macie\\AppData\\Roaming\\Python\\Python38\\site-packages\\sklearn\\model_selection\\_split.py:700: UserWarning: The least populated class in y has only 1 members, which is less than n_splits=5.\n",
      "  warnings.warn(\n",
      "C:\\Users\\macie\\AppData\\Roaming\\Python\\Python38\\site-packages\\sklearn\\model_selection\\_split.py:700: UserWarning: The least populated class in y has only 1 members, which is less than n_splits=5.\n",
      "  warnings.warn(\n"
     ]
    },
    {
     "name": "stdout",
     "output_type": "stream",
     "text": [
      "Fit for set number 3 is done\n"
     ]
    }
   ],
   "source": [
    "for i in range(NUMBER_OF_STARTING_POINTS):   \n",
    "    forest = RandomForestClassifier(random_state=RANDOM_STATE)\n",
    "    search_bayes_forest = getBayesCVResults(forest, grid_forest, n_iter=5, n_jobs=-1, random_state=(i+1)*100)\n",
    "    bayes_diff_start_points_forest.append(search_bayes_forest)"
   ]
  },
  {
   "cell_type": "code",
   "execution_count": 77,
   "metadata": {},
   "outputs": [],
   "source": [
    "#[elem[0].cv_results_['mean_test_score'] for elem in bayes_diff_start_points_lr]\n",
    "\n",
    "res_bayes_lr_dict = {\n",
    "        'hiperparametry': [np.nan for i in range(5)], \n",
    "        'wynik_zbior_1': [elem[0].best_score_ for elem in bayes_diff_start_points_lr], \n",
    "        'wynik_zbior_2': [elem[1].best_score_ for elem in bayes_diff_start_points_lr], \n",
    "        'wynik_zbior_3': [elem[2].best_score_ for elem in bayes_diff_start_points_lr], \n",
    "        'wynik_zbior_4': [elem[3].best_score_ for elem in bayes_diff_start_points_lr]\n",
    "}\n",
    "\n",
    "results_bayes_lr = pd.DataFrame(res_bayes_lr_dict)\n",
    "results_bayes_lr['model'] = 'LogisticRegression'\n",
    "\n",
    "res_bayes_tree_dict = {\n",
    "        'hiperparametry': [np.nan for i in range(5)], \n",
    "        'wynik_zbior_1': [elem[0].best_score_ for elem in bayes_diff_start_points_tree], \n",
    "        'wynik_zbior_2': [elem[1].best_score_ for elem in bayes_diff_start_points_tree], \n",
    "        'wynik_zbior_3': [elem[2].best_score_ for elem in bayes_diff_start_points_tree], \n",
    "        'wynik_zbior_4': [elem[3].best_score_ for elem in bayes_diff_start_points_tree]\n",
    "}\n",
    "\n",
    "results_bayes_tree = pd.DataFrame(res_bayes_tree_dict)\n",
    "results_bayes_tree['model'] = 'DecisionTreeClassifier'\n",
    "\n",
    "res_bayes_forest_dict = {\n",
    "        'hiperparametry': [np.nan for i in range(5)], \n",
    "        'wynik_zbior_1': [elem[0].best_score_ for elem in bayes_diff_start_points_forest], \n",
    "        'wynik_zbior_2': [elem[1].best_score_ for elem in bayes_diff_start_points_forest], \n",
    "        'wynik_zbior_3': [elem[2].best_score_ for elem in bayes_diff_start_points_forest], \n",
    "        'wynik_zbior_4': [elem[3].best_score_ for elem in bayes_diff_start_points_forest]\n",
    "}\n",
    "\n",
    "results_bayes_forest = pd.DataFrame(res_bayes_forest_dict)\n",
    "results_bayes_forest['model'] = 'RandomForestClassifier'\n",
    "\n",
    "frames_bayes = [results_bayes_lr, results_bayes_tree, results_bayes_forest]\n",
    "\n",
    "results_bayes = pd.concat(frames_bayes)"
   ]
  },
  {
   "cell_type": "code",
   "execution_count": 78,
   "metadata": {},
   "outputs": [],
   "source": [
    "results_bayes['mean_result'] = (results_bayes['wynik_zbior_1'] + results_bayes['wynik_zbior_2'] + results_bayes['wynik_zbior_3'] + results_bayes['wynik_zbior_4']) / 4"
   ]
  },
  {
   "cell_type": "code",
   "execution_count": 79,
   "metadata": {},
   "outputs": [
    {
     "data": {
      "text/html": [
       "<div>\n",
       "<style scoped>\n",
       "    .dataframe tbody tr th:only-of-type {\n",
       "        vertical-align: middle;\n",
       "    }\n",
       "\n",
       "    .dataframe tbody tr th {\n",
       "        vertical-align: top;\n",
       "    }\n",
       "\n",
       "    .dataframe thead th {\n",
       "        text-align: right;\n",
       "    }\n",
       "</style>\n",
       "<table border=\"1\" class=\"dataframe\">\n",
       "  <thead>\n",
       "    <tr style=\"text-align: right;\">\n",
       "      <th></th>\n",
       "      <th>hiperparametry</th>\n",
       "      <th>wynik_zbior_1</th>\n",
       "      <th>wynik_zbior_2</th>\n",
       "      <th>wynik_zbior_3</th>\n",
       "      <th>wynik_zbior_4</th>\n",
       "      <th>model</th>\n",
       "      <th>mean_result</th>\n",
       "    </tr>\n",
       "  </thead>\n",
       "  <tbody>\n",
       "    <tr>\n",
       "      <th>0</th>\n",
       "      <td>NaN</td>\n",
       "      <td>0.700</td>\n",
       "      <td>0.749817</td>\n",
       "      <td>0.884539</td>\n",
       "      <td>0.274600</td>\n",
       "      <td>LogisticRegression</td>\n",
       "      <td>0.652239</td>\n",
       "    </tr>\n",
       "    <tr>\n",
       "      <th>1</th>\n",
       "      <td>NaN</td>\n",
       "      <td>0.700</td>\n",
       "      <td>0.749817</td>\n",
       "      <td>0.884539</td>\n",
       "      <td>0.274839</td>\n",
       "      <td>LogisticRegression</td>\n",
       "      <td>0.652299</td>\n",
       "    </tr>\n",
       "    <tr>\n",
       "      <th>2</th>\n",
       "      <td>NaN</td>\n",
       "      <td>0.700</td>\n",
       "      <td>0.749817</td>\n",
       "      <td>0.884539</td>\n",
       "      <td>0.276516</td>\n",
       "      <td>LogisticRegression</td>\n",
       "      <td>0.652718</td>\n",
       "    </tr>\n",
       "    <tr>\n",
       "      <th>3</th>\n",
       "      <td>NaN</td>\n",
       "      <td>0.700</td>\n",
       "      <td>0.750002</td>\n",
       "      <td>0.884539</td>\n",
       "      <td>0.276756</td>\n",
       "      <td>LogisticRegression</td>\n",
       "      <td>0.652824</td>\n",
       "    </tr>\n",
       "    <tr>\n",
       "      <th>4</th>\n",
       "      <td>NaN</td>\n",
       "      <td>0.700</td>\n",
       "      <td>0.750002</td>\n",
       "      <td>0.884539</td>\n",
       "      <td>0.275798</td>\n",
       "      <td>LogisticRegression</td>\n",
       "      <td>0.652585</td>\n",
       "    </tr>\n",
       "    <tr>\n",
       "      <th>0</th>\n",
       "      <td>NaN</td>\n",
       "      <td>0.700</td>\n",
       "      <td>0.753887</td>\n",
       "      <td>0.884760</td>\n",
       "      <td>0.164951</td>\n",
       "      <td>DecisionTreeClassifier</td>\n",
       "      <td>0.625900</td>\n",
       "    </tr>\n",
       "    <tr>\n",
       "      <th>1</th>\n",
       "      <td>NaN</td>\n",
       "      <td>0.700</td>\n",
       "      <td>0.706514</td>\n",
       "      <td>0.884760</td>\n",
       "      <td>0.164951</td>\n",
       "      <td>DecisionTreeClassifier</td>\n",
       "      <td>0.614056</td>\n",
       "    </tr>\n",
       "    <tr>\n",
       "      <th>2</th>\n",
       "      <td>NaN</td>\n",
       "      <td>0.700</td>\n",
       "      <td>0.753887</td>\n",
       "      <td>0.884760</td>\n",
       "      <td>0.209240</td>\n",
       "      <td>DecisionTreeClassifier</td>\n",
       "      <td>0.636972</td>\n",
       "    </tr>\n",
       "    <tr>\n",
       "      <th>3</th>\n",
       "      <td>NaN</td>\n",
       "      <td>0.700</td>\n",
       "      <td>0.706514</td>\n",
       "      <td>0.884760</td>\n",
       "      <td>0.164951</td>\n",
       "      <td>DecisionTreeClassifier</td>\n",
       "      <td>0.614056</td>\n",
       "    </tr>\n",
       "    <tr>\n",
       "      <th>4</th>\n",
       "      <td>NaN</td>\n",
       "      <td>0.700</td>\n",
       "      <td>0.847523</td>\n",
       "      <td>0.898251</td>\n",
       "      <td>0.257363</td>\n",
       "      <td>DecisionTreeClassifier</td>\n",
       "      <td>0.675784</td>\n",
       "    </tr>\n",
       "    <tr>\n",
       "      <th>0</th>\n",
       "      <td>NaN</td>\n",
       "      <td>0.701</td>\n",
       "      <td>0.794596</td>\n",
       "      <td>0.884760</td>\n",
       "      <td>0.254011</td>\n",
       "      <td>RandomForestClassifier</td>\n",
       "      <td>0.658592</td>\n",
       "    </tr>\n",
       "    <tr>\n",
       "      <th>1</th>\n",
       "      <td>NaN</td>\n",
       "      <td>0.700</td>\n",
       "      <td>0.734827</td>\n",
       "      <td>0.884760</td>\n",
       "      <td>0.213072</td>\n",
       "      <td>RandomForestClassifier</td>\n",
       "      <td>0.633165</td>\n",
       "    </tr>\n",
       "    <tr>\n",
       "      <th>2</th>\n",
       "      <td>NaN</td>\n",
       "      <td>0.700</td>\n",
       "      <td>0.781644</td>\n",
       "      <td>0.884760</td>\n",
       "      <td>0.254728</td>\n",
       "      <td>RandomForestClassifier</td>\n",
       "      <td>0.655283</td>\n",
       "    </tr>\n",
       "    <tr>\n",
       "      <th>3</th>\n",
       "      <td>NaN</td>\n",
       "      <td>0.700</td>\n",
       "      <td>0.777760</td>\n",
       "      <td>0.884760</td>\n",
       "      <td>0.254728</td>\n",
       "      <td>RandomForestClassifier</td>\n",
       "      <td>0.654312</td>\n",
       "    </tr>\n",
       "    <tr>\n",
       "      <th>4</th>\n",
       "      <td>NaN</td>\n",
       "      <td>0.700</td>\n",
       "      <td>0.777390</td>\n",
       "      <td>0.884760</td>\n",
       "      <td>0.211637</td>\n",
       "      <td>RandomForestClassifier</td>\n",
       "      <td>0.643447</td>\n",
       "    </tr>\n",
       "  </tbody>\n",
       "</table>\n",
       "</div>"
      ],
      "text/plain": [
       "   hiperparametry  wynik_zbior_1  wynik_zbior_2  wynik_zbior_3  wynik_zbior_4  \\\n",
       "0             NaN          0.700       0.749817       0.884539       0.274600   \n",
       "1             NaN          0.700       0.749817       0.884539       0.274839   \n",
       "2             NaN          0.700       0.749817       0.884539       0.276516   \n",
       "3             NaN          0.700       0.750002       0.884539       0.276756   \n",
       "4             NaN          0.700       0.750002       0.884539       0.275798   \n",
       "0             NaN          0.700       0.753887       0.884760       0.164951   \n",
       "1             NaN          0.700       0.706514       0.884760       0.164951   \n",
       "2             NaN          0.700       0.753887       0.884760       0.209240   \n",
       "3             NaN          0.700       0.706514       0.884760       0.164951   \n",
       "4             NaN          0.700       0.847523       0.898251       0.257363   \n",
       "0             NaN          0.701       0.794596       0.884760       0.254011   \n",
       "1             NaN          0.700       0.734827       0.884760       0.213072   \n",
       "2             NaN          0.700       0.781644       0.884760       0.254728   \n",
       "3             NaN          0.700       0.777760       0.884760       0.254728   \n",
       "4             NaN          0.700       0.777390       0.884760       0.211637   \n",
       "\n",
       "                    model  mean_result  \n",
       "0      LogisticRegression     0.652239  \n",
       "1      LogisticRegression     0.652299  \n",
       "2      LogisticRegression     0.652718  \n",
       "3      LogisticRegression     0.652824  \n",
       "4      LogisticRegression     0.652585  \n",
       "0  DecisionTreeClassifier     0.625900  \n",
       "1  DecisionTreeClassifier     0.614056  \n",
       "2  DecisionTreeClassifier     0.636972  \n",
       "3  DecisionTreeClassifier     0.614056  \n",
       "4  DecisionTreeClassifier     0.675784  \n",
       "0  RandomForestClassifier     0.658592  \n",
       "1  RandomForestClassifier     0.633165  \n",
       "2  RandomForestClassifier     0.655283  \n",
       "3  RandomForestClassifier     0.654312  \n",
       "4  RandomForestClassifier     0.643447  "
      ]
     },
     "execution_count": 79,
     "metadata": {},
     "output_type": "execute_result"
    }
   ],
   "source": [
    "results_bayes "
   ]
  }
 ],
 "metadata": {
  "kernelspec": {
   "display_name": "Python 3",
   "language": "python",
   "name": "python3"
  },
  "language_info": {
   "codemirror_mode": {
    "name": "ipython",
    "version": 3
   },
   "file_extension": ".py",
   "mimetype": "text/x-python",
   "name": "python",
   "nbconvert_exporter": "python",
   "pygments_lexer": "ipython3",
   "version": "3.8.3"
  }
 },
 "nbformat": 4,
 "nbformat_minor": 2
}
